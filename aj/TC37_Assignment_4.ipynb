{
  "nbformat": 4,
  "nbformat_minor": 0,
  "metadata": {
    "colab": {
      "name": "TC37_Assignment_4",
      "provenance": []
    },
    "kernelspec": {
      "name": "python3",
      "display_name": "Python 3"
    },
    "language_info": {
      "name": "python"
    }
  },
  "cells": [
    {
      "cell_type": "markdown",
      "source": [
        "Data Analytics II\n",
        "1. Implement logistic regression using Python/R to perform classification on\n",
        "Social_Network_Ads.csv dataset\n",
        "Compute Confusion matrix to find TP, FP, TN, FN, Accuracy, Error rate, Precision, Recall on the\n",
        "given dataset."
      ],
      "metadata": {
        "id": "OW3rR3VvC0Jw"
      }
    },
    {
      "cell_type": "code",
      "execution_count": null,
      "metadata": {
        "id": "C1f9VkBdAIM0"
      },
      "outputs": [],
      "source": [
        "import pandas as pd"
      ]
    },
    {
      "cell_type": "code",
      "source": [
        "df = pd.read_csv(\"Social_Network_Ads.csv\")\n"
      ],
      "metadata": {
        "id": "Vy8kpQdCAqHg"
      },
      "execution_count": null,
      "outputs": []
    },
    {
      "cell_type": "code",
      "source": [
        "df.head()"
      ],
      "metadata": {
        "colab": {
          "base_uri": "https://localhost:8080/",
          "height": 206
        },
        "id": "R6muCVIlA5jY",
        "outputId": "fce32a7c-00e7-4e23-a839-d7aedc8cd193"
      },
      "execution_count": null,
      "outputs": [
        {
          "output_type": "execute_result",
          "data": {
            "text/html": [
              "\n",
              "  <div id=\"df-480fafb2-9f6d-42ad-926c-cfd18a987ea0\">\n",
              "    <div class=\"colab-df-container\">\n",
              "      <div>\n",
              "<style scoped>\n",
              "    .dataframe tbody tr th:only-of-type {\n",
              "        vertical-align: middle;\n",
              "    }\n",
              "\n",
              "    .dataframe tbody tr th {\n",
              "        vertical-align: top;\n",
              "    }\n",
              "\n",
              "    .dataframe thead th {\n",
              "        text-align: right;\n",
              "    }\n",
              "</style>\n",
              "<table border=\"1\" class=\"dataframe\">\n",
              "  <thead>\n",
              "    <tr style=\"text-align: right;\">\n",
              "      <th></th>\n",
              "      <th>User ID</th>\n",
              "      <th>Gender</th>\n",
              "      <th>Age</th>\n",
              "      <th>EstimatedSalary</th>\n",
              "      <th>Purchased</th>\n",
              "    </tr>\n",
              "  </thead>\n",
              "  <tbody>\n",
              "    <tr>\n",
              "      <th>0</th>\n",
              "      <td>15624510</td>\n",
              "      <td>Male</td>\n",
              "      <td>19</td>\n",
              "      <td>19000</td>\n",
              "      <td>0</td>\n",
              "    </tr>\n",
              "    <tr>\n",
              "      <th>1</th>\n",
              "      <td>15810944</td>\n",
              "      <td>Male</td>\n",
              "      <td>35</td>\n",
              "      <td>20000</td>\n",
              "      <td>0</td>\n",
              "    </tr>\n",
              "    <tr>\n",
              "      <th>2</th>\n",
              "      <td>15668575</td>\n",
              "      <td>Female</td>\n",
              "      <td>26</td>\n",
              "      <td>43000</td>\n",
              "      <td>0</td>\n",
              "    </tr>\n",
              "    <tr>\n",
              "      <th>3</th>\n",
              "      <td>15603246</td>\n",
              "      <td>Female</td>\n",
              "      <td>27</td>\n",
              "      <td>57000</td>\n",
              "      <td>0</td>\n",
              "    </tr>\n",
              "    <tr>\n",
              "      <th>4</th>\n",
              "      <td>15804002</td>\n",
              "      <td>Male</td>\n",
              "      <td>19</td>\n",
              "      <td>76000</td>\n",
              "      <td>0</td>\n",
              "    </tr>\n",
              "  </tbody>\n",
              "</table>\n",
              "</div>\n",
              "      <button class=\"colab-df-convert\" onclick=\"convertToInteractive('df-480fafb2-9f6d-42ad-926c-cfd18a987ea0')\"\n",
              "              title=\"Convert this dataframe to an interactive table.\"\n",
              "              style=\"display:none;\">\n",
              "        \n",
              "  <svg xmlns=\"http://www.w3.org/2000/svg\" height=\"24px\"viewBox=\"0 0 24 24\"\n",
              "       width=\"24px\">\n",
              "    <path d=\"M0 0h24v24H0V0z\" fill=\"none\"/>\n",
              "    <path d=\"M18.56 5.44l.94 2.06.94-2.06 2.06-.94-2.06-.94-.94-2.06-.94 2.06-2.06.94zm-11 1L8.5 8.5l.94-2.06 2.06-.94-2.06-.94L8.5 2.5l-.94 2.06-2.06.94zm10 10l.94 2.06.94-2.06 2.06-.94-2.06-.94-.94-2.06-.94 2.06-2.06.94z\"/><path d=\"M17.41 7.96l-1.37-1.37c-.4-.4-.92-.59-1.43-.59-.52 0-1.04.2-1.43.59L10.3 9.45l-7.72 7.72c-.78.78-.78 2.05 0 2.83L4 21.41c.39.39.9.59 1.41.59.51 0 1.02-.2 1.41-.59l7.78-7.78 2.81-2.81c.8-.78.8-2.07 0-2.86zM5.41 20L4 18.59l7.72-7.72 1.47 1.35L5.41 20z\"/>\n",
              "  </svg>\n",
              "      </button>\n",
              "      \n",
              "  <style>\n",
              "    .colab-df-container {\n",
              "      display:flex;\n",
              "      flex-wrap:wrap;\n",
              "      gap: 12px;\n",
              "    }\n",
              "\n",
              "    .colab-df-convert {\n",
              "      background-color: #E8F0FE;\n",
              "      border: none;\n",
              "      border-radius: 50%;\n",
              "      cursor: pointer;\n",
              "      display: none;\n",
              "      fill: #1967D2;\n",
              "      height: 32px;\n",
              "      padding: 0 0 0 0;\n",
              "      width: 32px;\n",
              "    }\n",
              "\n",
              "    .colab-df-convert:hover {\n",
              "      background-color: #E2EBFA;\n",
              "      box-shadow: 0px 1px 2px rgba(60, 64, 67, 0.3), 0px 1px 3px 1px rgba(60, 64, 67, 0.15);\n",
              "      fill: #174EA6;\n",
              "    }\n",
              "\n",
              "    [theme=dark] .colab-df-convert {\n",
              "      background-color: #3B4455;\n",
              "      fill: #D2E3FC;\n",
              "    }\n",
              "\n",
              "    [theme=dark] .colab-df-convert:hover {\n",
              "      background-color: #434B5C;\n",
              "      box-shadow: 0px 1px 3px 1px rgba(0, 0, 0, 0.15);\n",
              "      filter: drop-shadow(0px 1px 2px rgba(0, 0, 0, 0.3));\n",
              "      fill: #FFFFFF;\n",
              "    }\n",
              "  </style>\n",
              "\n",
              "      <script>\n",
              "        const buttonEl =\n",
              "          document.querySelector('#df-480fafb2-9f6d-42ad-926c-cfd18a987ea0 button.colab-df-convert');\n",
              "        buttonEl.style.display =\n",
              "          google.colab.kernel.accessAllowed ? 'block' : 'none';\n",
              "\n",
              "        async function convertToInteractive(key) {\n",
              "          const element = document.querySelector('#df-480fafb2-9f6d-42ad-926c-cfd18a987ea0');\n",
              "          const dataTable =\n",
              "            await google.colab.kernel.invokeFunction('convertToInteractive',\n",
              "                                                     [key], {});\n",
              "          if (!dataTable) return;\n",
              "\n",
              "          const docLinkHtml = 'Like what you see? Visit the ' +\n",
              "            '<a target=\"_blank\" href=https://colab.research.google.com/notebooks/data_table.ipynb>data table notebook</a>'\n",
              "            + ' to learn more about interactive tables.';\n",
              "          element.innerHTML = '';\n",
              "          dataTable['output_type'] = 'display_data';\n",
              "          await google.colab.output.renderOutput(dataTable, element);\n",
              "          const docLink = document.createElement('div');\n",
              "          docLink.innerHTML = docLinkHtml;\n",
              "          element.appendChild(docLink);\n",
              "        }\n",
              "      </script>\n",
              "    </div>\n",
              "  </div>\n",
              "  "
            ],
            "text/plain": [
              "    User ID  Gender  Age  EstimatedSalary  Purchased\n",
              "0  15624510    Male   19            19000          0\n",
              "1  15810944    Male   35            20000          0\n",
              "2  15668575  Female   26            43000          0\n",
              "3  15603246  Female   27            57000          0\n",
              "4  15804002    Male   19            76000          0"
            ]
          },
          "metadata": {},
          "execution_count": 5
        }
      ]
    },
    {
      "cell_type": "code",
      "source": [
        "df.describe()"
      ],
      "metadata": {
        "colab": {
          "base_uri": "https://localhost:8080/",
          "height": 300
        },
        "id": "OA6WPV-VBBgl",
        "outputId": "dcd9d111-0e3d-4abb-9d53-6c716c3f318d"
      },
      "execution_count": null,
      "outputs": [
        {
          "output_type": "execute_result",
          "data": {
            "text/html": [
              "\n",
              "  <div id=\"df-d3d7d5b9-04e5-46c0-8c6b-868c79e55710\">\n",
              "    <div class=\"colab-df-container\">\n",
              "      <div>\n",
              "<style scoped>\n",
              "    .dataframe tbody tr th:only-of-type {\n",
              "        vertical-align: middle;\n",
              "    }\n",
              "\n",
              "    .dataframe tbody tr th {\n",
              "        vertical-align: top;\n",
              "    }\n",
              "\n",
              "    .dataframe thead th {\n",
              "        text-align: right;\n",
              "    }\n",
              "</style>\n",
              "<table border=\"1\" class=\"dataframe\">\n",
              "  <thead>\n",
              "    <tr style=\"text-align: right;\">\n",
              "      <th></th>\n",
              "      <th>User ID</th>\n",
              "      <th>Age</th>\n",
              "      <th>EstimatedSalary</th>\n",
              "      <th>Purchased</th>\n",
              "    </tr>\n",
              "  </thead>\n",
              "  <tbody>\n",
              "    <tr>\n",
              "      <th>count</th>\n",
              "      <td>4.000000e+02</td>\n",
              "      <td>400.000000</td>\n",
              "      <td>400.000000</td>\n",
              "      <td>400.000000</td>\n",
              "    </tr>\n",
              "    <tr>\n",
              "      <th>mean</th>\n",
              "      <td>1.569154e+07</td>\n",
              "      <td>37.655000</td>\n",
              "      <td>69742.500000</td>\n",
              "      <td>0.357500</td>\n",
              "    </tr>\n",
              "    <tr>\n",
              "      <th>std</th>\n",
              "      <td>7.165832e+04</td>\n",
              "      <td>10.482877</td>\n",
              "      <td>34096.960282</td>\n",
              "      <td>0.479864</td>\n",
              "    </tr>\n",
              "    <tr>\n",
              "      <th>min</th>\n",
              "      <td>1.556669e+07</td>\n",
              "      <td>18.000000</td>\n",
              "      <td>15000.000000</td>\n",
              "      <td>0.000000</td>\n",
              "    </tr>\n",
              "    <tr>\n",
              "      <th>25%</th>\n",
              "      <td>1.562676e+07</td>\n",
              "      <td>29.750000</td>\n",
              "      <td>43000.000000</td>\n",
              "      <td>0.000000</td>\n",
              "    </tr>\n",
              "    <tr>\n",
              "      <th>50%</th>\n",
              "      <td>1.569434e+07</td>\n",
              "      <td>37.000000</td>\n",
              "      <td>70000.000000</td>\n",
              "      <td>0.000000</td>\n",
              "    </tr>\n",
              "    <tr>\n",
              "      <th>75%</th>\n",
              "      <td>1.575036e+07</td>\n",
              "      <td>46.000000</td>\n",
              "      <td>88000.000000</td>\n",
              "      <td>1.000000</td>\n",
              "    </tr>\n",
              "    <tr>\n",
              "      <th>max</th>\n",
              "      <td>1.581524e+07</td>\n",
              "      <td>60.000000</td>\n",
              "      <td>150000.000000</td>\n",
              "      <td>1.000000</td>\n",
              "    </tr>\n",
              "  </tbody>\n",
              "</table>\n",
              "</div>\n",
              "      <button class=\"colab-df-convert\" onclick=\"convertToInteractive('df-d3d7d5b9-04e5-46c0-8c6b-868c79e55710')\"\n",
              "              title=\"Convert this dataframe to an interactive table.\"\n",
              "              style=\"display:none;\">\n",
              "        \n",
              "  <svg xmlns=\"http://www.w3.org/2000/svg\" height=\"24px\"viewBox=\"0 0 24 24\"\n",
              "       width=\"24px\">\n",
              "    <path d=\"M0 0h24v24H0V0z\" fill=\"none\"/>\n",
              "    <path d=\"M18.56 5.44l.94 2.06.94-2.06 2.06-.94-2.06-.94-.94-2.06-.94 2.06-2.06.94zm-11 1L8.5 8.5l.94-2.06 2.06-.94-2.06-.94L8.5 2.5l-.94 2.06-2.06.94zm10 10l.94 2.06.94-2.06 2.06-.94-2.06-.94-.94-2.06-.94 2.06-2.06.94z\"/><path d=\"M17.41 7.96l-1.37-1.37c-.4-.4-.92-.59-1.43-.59-.52 0-1.04.2-1.43.59L10.3 9.45l-7.72 7.72c-.78.78-.78 2.05 0 2.83L4 21.41c.39.39.9.59 1.41.59.51 0 1.02-.2 1.41-.59l7.78-7.78 2.81-2.81c.8-.78.8-2.07 0-2.86zM5.41 20L4 18.59l7.72-7.72 1.47 1.35L5.41 20z\"/>\n",
              "  </svg>\n",
              "      </button>\n",
              "      \n",
              "  <style>\n",
              "    .colab-df-container {\n",
              "      display:flex;\n",
              "      flex-wrap:wrap;\n",
              "      gap: 12px;\n",
              "    }\n",
              "\n",
              "    .colab-df-convert {\n",
              "      background-color: #E8F0FE;\n",
              "      border: none;\n",
              "      border-radius: 50%;\n",
              "      cursor: pointer;\n",
              "      display: none;\n",
              "      fill: #1967D2;\n",
              "      height: 32px;\n",
              "      padding: 0 0 0 0;\n",
              "      width: 32px;\n",
              "    }\n",
              "\n",
              "    .colab-df-convert:hover {\n",
              "      background-color: #E2EBFA;\n",
              "      box-shadow: 0px 1px 2px rgba(60, 64, 67, 0.3), 0px 1px 3px 1px rgba(60, 64, 67, 0.15);\n",
              "      fill: #174EA6;\n",
              "    }\n",
              "\n",
              "    [theme=dark] .colab-df-convert {\n",
              "      background-color: #3B4455;\n",
              "      fill: #D2E3FC;\n",
              "    }\n",
              "\n",
              "    [theme=dark] .colab-df-convert:hover {\n",
              "      background-color: #434B5C;\n",
              "      box-shadow: 0px 1px 3px 1px rgba(0, 0, 0, 0.15);\n",
              "      filter: drop-shadow(0px 1px 2px rgba(0, 0, 0, 0.3));\n",
              "      fill: #FFFFFF;\n",
              "    }\n",
              "  </style>\n",
              "\n",
              "      <script>\n",
              "        const buttonEl =\n",
              "          document.querySelector('#df-d3d7d5b9-04e5-46c0-8c6b-868c79e55710 button.colab-df-convert');\n",
              "        buttonEl.style.display =\n",
              "          google.colab.kernel.accessAllowed ? 'block' : 'none';\n",
              "\n",
              "        async function convertToInteractive(key) {\n",
              "          const element = document.querySelector('#df-d3d7d5b9-04e5-46c0-8c6b-868c79e55710');\n",
              "          const dataTable =\n",
              "            await google.colab.kernel.invokeFunction('convertToInteractive',\n",
              "                                                     [key], {});\n",
              "          if (!dataTable) return;\n",
              "\n",
              "          const docLinkHtml = 'Like what you see? Visit the ' +\n",
              "            '<a target=\"_blank\" href=https://colab.research.google.com/notebooks/data_table.ipynb>data table notebook</a>'\n",
              "            + ' to learn more about interactive tables.';\n",
              "          element.innerHTML = '';\n",
              "          dataTable['output_type'] = 'display_data';\n",
              "          await google.colab.output.renderOutput(dataTable, element);\n",
              "          const docLink = document.createElement('div');\n",
              "          docLink.innerHTML = docLinkHtml;\n",
              "          element.appendChild(docLink);\n",
              "        }\n",
              "      </script>\n",
              "    </div>\n",
              "  </div>\n",
              "  "
            ],
            "text/plain": [
              "            User ID         Age  EstimatedSalary   Purchased\n",
              "count  4.000000e+02  400.000000       400.000000  400.000000\n",
              "mean   1.569154e+07   37.655000     69742.500000    0.357500\n",
              "std    7.165832e+04   10.482877     34096.960282    0.479864\n",
              "min    1.556669e+07   18.000000     15000.000000    0.000000\n",
              "25%    1.562676e+07   29.750000     43000.000000    0.000000\n",
              "50%    1.569434e+07   37.000000     70000.000000    0.000000\n",
              "75%    1.575036e+07   46.000000     88000.000000    1.000000\n",
              "max    1.581524e+07   60.000000    150000.000000    1.000000"
            ]
          },
          "metadata": {},
          "execution_count": 6
        }
      ]
    },
    {
      "cell_type": "code",
      "source": [
        "df.shape"
      ],
      "metadata": {
        "colab": {
          "base_uri": "https://localhost:8080/"
        },
        "id": "mDUrq6yJDtZB",
        "outputId": "caab2273-0896-40d3-8f2e-ac3f78a13629"
      },
      "execution_count": null,
      "outputs": [
        {
          "output_type": "execute_result",
          "data": {
            "text/plain": [
              "(400, 5)"
            ]
          },
          "metadata": {},
          "execution_count": 9
        }
      ]
    },
    {
      "cell_type": "code",
      "source": [
        "df.dtypes"
      ],
      "metadata": {
        "colab": {
          "base_uri": "https://localhost:8080/"
        },
        "id": "iIl_pPDYBF38",
        "outputId": "7ba0523a-eb93-458c-b38c-88c05016d6d5"
      },
      "execution_count": null,
      "outputs": [
        {
          "output_type": "execute_result",
          "data": {
            "text/plain": [
              "User ID             int64\n",
              "Gender             object\n",
              "Age                 int64\n",
              "EstimatedSalary     int64\n",
              "Purchased           int64\n",
              "dtype: object"
            ]
          },
          "metadata": {},
          "execution_count": 7
        }
      ]
    },
    {
      "cell_type": "code",
      "source": [
        "df.isnull().sum()"
      ],
      "metadata": {
        "colab": {
          "base_uri": "https://localhost:8080/"
        },
        "id": "a-ZBroQUBJ3M",
        "outputId": "9a422720-93a9-4e9c-a302-513bde7f2cf6"
      },
      "execution_count": null,
      "outputs": [
        {
          "output_type": "execute_result",
          "data": {
            "text/plain": [
              "User ID            0\n",
              "Gender             0\n",
              "Age                0\n",
              "EstimatedSalary    0\n",
              "Purchased          0\n",
              "dtype: int64"
            ]
          },
          "metadata": {},
          "execution_count": 8
        }
      ]
    },
    {
      "cell_type": "code",
      "source": [
        "import matplotlib.pyplot as plt\n",
        "plt.boxplot(df[\"Age\"], vert=False)\n",
        "plt.title(\"Detecting outliers using Boxplot\")\n",
        "plt.xlabel('Age')"
      ],
      "metadata": {
        "colab": {
          "base_uri": "https://localhost:8080/",
          "height": 312
        },
        "id": "OmDliu0HBPy8",
        "outputId": "8f0e2b8b-a801-4463-d8ad-47b6c06f2667"
      },
      "execution_count": null,
      "outputs": [
        {
          "output_type": "execute_result",
          "data": {
            "text/plain": [
              "Text(0.5, 0, 'Age')"
            ]
          },
          "metadata": {},
          "execution_count": 10
        },
        {
          "output_type": "display_data",
          "data": {
            "image/png": "[encoded data removed]",
            "text/plain": [
              "<Figure size 432x288 with 1 Axes>"
            ]
          },
          "metadata": {
            "needs_background": "light"
          }
        }
      ]
    },
    {
      "cell_type": "code",
      "source": [
        "plt.boxplot(df[\"EstimatedSalary\"], vert=False)\n",
        "plt.xlabel('Age')"
      ],
      "metadata": {
        "colab": {
          "base_uri": "https://localhost:8080/",
          "height": 296
        },
        "id": "-RhOi5B1D0VM",
        "outputId": "24fae9dc-b6c5-4cd1-c216-a915d206a16d"
      },
      "execution_count": null,
      "outputs": [
        {
          "output_type": "execute_result",
          "data": {
            "text/plain": [
              "Text(0.5, 0, 'Age')"
            ]
          },
          "metadata": {},
          "execution_count": 12
        },
        {
          "output_type": "display_data",
          "data": {
            "image/png": "[encoded data removed]",
            "text/plain": [
              "<Figure size 432x288 with 1 Axes>"
            ]
          },
          "metadata": {
            "needs_background": "light"
          }
        }
      ]
    },
    {
      "cell_type": "markdown",
      "source": [
        "Split data into train and test data"
      ],
      "metadata": {
        "id": "YPazFZrKFmgM"
      }
    },
    {
      "cell_type": "markdown",
      "source": [
        "Seperate Purchased (Categorical) data from the Rest (Numerical Data)"
      ],
      "metadata": {
        "id": "9y2fQJUmGwv4"
      }
    },
    {
      "cell_type": "code",
      "source": [
        "X = df.drop(\"Purchased\", axis=1)\n",
        "y = df[\"Purchased\"]"
      ],
      "metadata": {
        "id": "-zhNwpdSF42p"
      },
      "execution_count": null,
      "outputs": []
    },
    {
      "cell_type": "code",
      "source": [
        "X = X.drop(\"Purchased\", axis=1)"
      ],
      "metadata": {
        "id": "DjbO56gBGTmw"
      },
      "execution_count": null,
      "outputs": []
    },
    {
      "cell_type": "code",
      "source": [
        "X,y"
      ],
      "metadata": {
        "colab": {
          "base_uri": "https://localhost:8080/"
        },
        "id": "n9oiJ3ZxGacY",
        "outputId": "73cbf908-bf09-4769-c91e-6f4ba90d29e0"
      },
      "execution_count": null,
      "outputs": [
        {
          "output_type": "execute_result",
          "data": {
            "text/plain": [
              "(      User ID  Age  EstimatedSalary\n",
              " 0    15624510   19            19000\n",
              " 1    15810944   35            20000\n",
              " 2    15668575   26            43000\n",
              " 3    15603246   27            57000\n",
              " 4    15804002   19            76000\n",
              " ..        ...  ...              ...\n",
              " 395  15691863   46            41000\n",
              " 396  15706071   51            23000\n",
              " 397  15654296   50            20000\n",
              " 398  15755018   36            33000\n",
              " 399  15594041   49            36000\n",
              " \n",
              " [400 rows x 3 columns], 0      0\n",
              " 1      0\n",
              " 2      0\n",
              " 3      0\n",
              " 4      0\n",
              "       ..\n",
              " 395    1\n",
              " 396    1\n",
              " 397    1\n",
              " 398    0\n",
              " 399    1\n",
              " Name: Purchased, Length: 400, dtype: int64)"
            ]
          },
          "metadata": {},
          "execution_count": 18
        }
      ]
    },
    {
      "cell_type": "code",
      "source": [
        "from sklearn.model_selection import train_test_split\n",
        "X_train, X_test, y_train, y_test = train_test_split(X,y, test_size = 0.25, random_state=0)"
      ],
      "metadata": {
        "id": "NpEen17EEHmD"
      },
      "execution_count": null,
      "outputs": []
    },
    {
      "cell_type": "code",
      "source": [
        "X_train, X_test"
      ],
      "metadata": {
        "colab": {
          "base_uri": "https://localhost:8080/"
        },
        "id": "Hlx50IGEGFlq",
        "outputId": "3c56d89e-a343-42eb-9279-22b8fd701147"
      },
      "execution_count": null,
      "outputs": [
        {
          "output_type": "execute_result",
          "data": {
            "text/plain": [
              "(      User ID  Age  EstimatedSalary\n",
              " 250  15810075   44            39000\n",
              " 63   15583681   32           120000\n",
              " 312  15733964   38            50000\n",
              " 159  15598840   32           135000\n",
              " 283  15663249   52            21000\n",
              " ..        ...  ...              ...\n",
              " 323  15619465   48            30000\n",
              " 192  15779581   29            43000\n",
              " 117  15591433   36            52000\n",
              " 47   15776348   27            54000\n",
              " 172  15794661   26           118000\n",
              " \n",
              " [300 rows x 3 columns],       User ID  Age  EstimatedSalary\n",
              " 132  15725660   30            87000\n",
              " 309  15652400   38            50000\n",
              " 341  15776844   35            75000\n",
              " 196  15738448   30            79000\n",
              " 246  15638003   35            50000\n",
              " ..        ...  ...              ...\n",
              " 146  15750839   27            96000\n",
              " 135  15578006   23            63000\n",
              " 390  15807837   48            33000\n",
              " 264  15600379   48            90000\n",
              " 364  15654456   42           104000\n",
              " \n",
              " [100 rows x 3 columns])"
            ]
          },
          "metadata": {},
          "execution_count": 20
        }
      ]
    },
    {
      "cell_type": "code",
      "source": [
        "from sklearn.preprocessing import StandardScaler"
      ],
      "metadata": {
        "id": "AKwTaVvnF1En"
      },
      "execution_count": null,
      "outputs": []
    },
    {
      "cell_type": "code",
      "source": [
        "std = StandardScaler()"
      ],
      "metadata": {
        "id": "rv5NnCFLINVI"
      },
      "execution_count": null,
      "outputs": []
    },
    {
      "cell_type": "code",
      "source": [
        "X_train = std.fit_transform(X_train)"
      ],
      "metadata": {
        "id": "P4t2ePpRIZ1N"
      },
      "execution_count": null,
      "outputs": []
    },
    {
      "cell_type": "code",
      "source": [
        "X_test = std.transform(X_test)"
      ],
      "metadata": {
        "id": "ePw01KlOIgp1"
      },
      "execution_count": null,
      "outputs": []
    },
    {
      "cell_type": "code",
      "source": [
        "std.mean_"
      ],
      "metadata": {
        "colab": {
          "base_uri": "https://localhost:8080/"
        },
        "id": "-TkxZtD-IkVd",
        "outputId": "8801aef7-be9c-47e8-d9ae-aec64e8dcc80"
      },
      "execution_count": null,
      "outputs": [
        {
          "output_type": "execute_result",
          "data": {
            "text/plain": [
              "array([1.56917163e+07, 3.81266667e+01, 6.95833333e+04])"
            ]
          },
          "metadata": {},
          "execution_count": 26
        }
      ]
    },
    {
      "cell_type": "code",
      "source": [
        "X_train"
      ],
      "metadata": {
        "colab": {
          "base_uri": "https://localhost:8080/"
        },
        "id": "bEBqNXI0IwE8",
        "outputId": "17ff7121-303b-4829-c7f5-3d73925bcd16"
      },
      "execution_count": null,
      "outputs": [
        {
          "output_type": "execute_result",
          "data": {
            "text/plain": [
              "array([[ 1.67009484e+00,  5.81649437e-01, -8.86706990e-01],\n",
              "       [-1.52442817e+00, -6.06737608e-01,  1.46173768e+00],\n",
              "       [ 5.96133781e-01, -1.25440855e-02, -5.67782405e-01],\n",
              "       [-1.31052773e+00, -6.06737608e-01,  1.89663484e+00],\n",
              "       [-4.01687250e-01,  1.37390747e+00, -1.40858358e+00],\n",
              "       [-1.46235626e+00,  1.47293972e+00,  9.97847375e-01],\n",
              "       [-3.29215938e-01,  8.64881682e-02, -7.99727558e-01],\n",
              "       [ 4.24988037e-01, -1.25440855e-02, -2.48857820e-01],\n",
              "       [-1.02483329e+00, -2.10608593e-01, -5.67782405e-01],\n",
              "       [ 4.80851340e-01, -2.10608593e-01, -1.90871532e-01],\n",
              "       [ 2.61617156e-01, -3.09640847e-01, -1.29261101e+00],\n",
              "       [-1.33320451e-01, -3.09640847e-01, -5.67782405e-01],\n",
              "       [-2.56490638e-01,  3.83584929e-01,  9.90599089e-02],\n",
              "       [ 6.35586622e-01,  8.78746198e-01, -5.96775549e-01],\n",
              "       [ 1.63411318e+00,  2.06713324e+00, -1.17663843e+00],\n",
              "       [-7.85858577e-01,  1.07681071e+00, -1.32885244e-01],\n",
              "       [ 1.74291892e+00,  6.80681690e-01,  1.78066227e+00],\n",
              "       [ 1.44063058e+00, -7.05769861e-01,  5.62950214e-01],\n",
              "       [-1.04190695e+00,  7.79713944e-01,  3.59998206e-01],\n",
              "       [-8.74528695e-01,  8.78746198e-01, -5.38789261e-01],\n",
              "       [ 1.66653901e+00, -1.20093113e+00, -1.58254245e+00],\n",
              "       [-1.38284383e+00,  2.16616550e+00,  9.39861087e-01],\n",
              "       [-1.02031795e+00, -1.25440855e-02,  1.22979253e+00],\n",
              "       [ 1.71296241e+00,  1.85520422e-01,  1.08482681e+00],\n",
              "       [ 1.53096573e+00,  3.83584929e-01, -4.80802973e-01],\n",
              "       [-1.05239102e+00, -3.09640847e-01, -3.06844108e-01],\n",
              "       [ 3.23717281e-01,  9.77778452e-01, -8.28720702e-01],\n",
              "       [ 1.46158461e+00,  9.77778452e-01,  1.86764170e+00],\n",
              "       [ 1.53519887e+00, -1.25440855e-02,  1.25878567e+00],\n",
              "       [ 1.38421697e+00, -9.03834369e-01,  2.27354572e+00],\n",
              "       [-1.70247519e-01, -1.20093113e+00, -1.58254245e+00],\n",
              "       [-7.87692937e-01,  2.16616550e+00, -7.99727558e-01],\n",
              "       [-1.68709479e-01, -1.39899564e+00, -1.46656987e+00],\n",
              "       [ 1.38573963e-01,  3.83584929e-01,  2.30253886e+00],\n",
              "       [-3.53344821e-01,  7.79713944e-01,  7.65902223e-01],\n",
              "       [-1.39273526e+00, -1.00286662e+00, -3.06844108e-01],\n",
              "       [-9.75474911e-01,  8.64881682e-02,  7.65902223e-01],\n",
              "       [-2.77318944e-02, -1.00286662e+00,  5.62950214e-01],\n",
              "       [ 3.06855284e-01,  2.84552676e-01,  7.00667649e-02],\n",
              "       [-1.04748058e+00,  6.80681690e-01, -1.26361786e+00],\n",
              "       [ 8.26542179e-02, -5.07705354e-01, -1.69126674e-02],\n",
              "       [ 4.61209583e-01, -1.79512465e+00,  3.59998206e-01],\n",
              "       [-1.55946443e+00, -7.05769861e-01,  1.28053053e-01],\n",
              "       [ 6.69451721e-01,  3.83584929e-01,  3.02011918e-01],\n",
              "       [ 1.07189609e+00, -3.09640847e-01,  7.00667649e-02],\n",
              "       [-2.22484435e-01, -5.07705354e-01,  2.30253886e+00],\n",
              "       [-1.66207568e+00,  1.85520422e-01,  4.10736208e-02],\n",
              "       [ 4.28177001e-01,  1.27487521e+00,  2.21555943e+00],\n",
              "       [-6.41875465e-01,  7.79713944e-01,  2.73018773e-01],\n",
              "       [-1.75242621e-01, -3.09640847e-01,  1.57046197e-01],\n",
              "       [ 2.18381443e-02, -1.25440855e-02, -5.38789261e-01],\n",
              "       [ 1.69179673e+00, -2.10608593e-01,  1.57046197e-01],\n",
              "       [ 3.13190879e-01, -1.11576339e-01,  2.44025629e-01],\n",
              "       [-1.01684677e+00, -1.25440855e-02, -2.48857820e-01],\n",
              "       [ 1.23907680e+00,  2.16616550e+00,  1.11381995e+00],\n",
              "       [-3.27536794e-01, -1.79512465e+00,  3.59998206e-01],\n",
              "       [ 5.04458136e-01,  1.86906873e+00,  1.28053053e-01],\n",
              "       [-1.14175255e+00,  3.83584929e-01, -1.32885244e-01],\n",
              "       [ 7.53027963e-01, -1.20093113e+00,  3.02011918e-01],\n",
              "       [ 7.80684460e-01,  7.79713944e-01,  1.37475825e+00],\n",
              "       [-8.72074745e-02, -3.09640847e-01, -2.48857820e-01],\n",
              "       [-7.44373831e-01, -1.69609240e+00, -4.59058115e-02],\n",
              "       [ 1.19962396e+00, -1.00286662e+00, -7.41741269e-01],\n",
              "       [-1.60732711e+00,  2.84552676e-01,  5.04963926e-01],\n",
              "       [-1.30074919e+00, -1.11576339e-01, -1.06066585e+00],\n",
              "       [ 4.67643952e-01, -1.10189888e+00,  5.91943358e-01],\n",
              "       [ 3.86154787e-02,  8.64881682e-02, -7.99727558e-01],\n",
              "       [-1.54120550e+00, -1.00286662e+00,  1.54871711e+00],\n",
              "       [-3.91951034e-01, -7.05769861e-01,  1.40375139e+00],\n",
              "       [-2.55361801e-01, -1.29996338e+00,  5.04963926e-01],\n",
              "       [-1.08494384e+00, -3.09640847e-01,  4.10736208e-02],\n",
              "       [ 8.28716459e-01, -1.11576339e-01,  1.20804767e-02],\n",
              "       [-8.91687012e-01, -3.09640847e-01, -8.86706990e-01],\n",
              "       [-1.39900031e+00,  8.78746198e-01, -1.35059730e+00],\n",
              "       [ 1.44683918e+00, -3.09640847e-01,  2.24455257e+00],\n",
              "       [ 9.91029057e-01,  9.77778452e-01,  1.98361427e+00],\n",
              "       [ 4.12401509e-01, -1.20093113e+00,  4.75970782e-01],\n",
              "       [ 1.51170495e+00, -1.29996338e+00,  2.73018773e-01],\n",
              "       [ 1.17336439e+00,  1.37390747e+00,  1.98361427e+00],\n",
              "       [ 2.02550779e-01,  1.27487521e+00, -1.35059730e+00],\n",
              "       [-1.64689283e+00, -3.09640847e-01, -2.77850964e-01],\n",
              "       [ 1.28142228e+00, -5.07705354e-01,  1.25878567e+00],\n",
              "       [-5.96215293e-02, -8.04802115e-01,  1.08482681e+00],\n",
              "       [-2.97749617e-01,  9.77778452e-01, -1.06066585e+00],\n",
              "       [ 1.37881266e+00,  2.84552676e-01,  3.02011918e-01],\n",
              "       [ 4.63100384e-01,  9.77778452e-01,  7.65902223e-01],\n",
              "       [-3.11281546e-01, -7.05769861e-01, -1.49556302e+00],\n",
              "       [ 1.17131838e+00, -7.05769861e-01,  4.10736208e-02],\n",
              "       [-1.61144736e+00,  4.82617183e-01,  1.72267598e+00],\n",
              "       [-5.00123074e-02,  2.06713324e+00,  1.86039341e-01],\n",
              "       [ 1.02270703e+00, -1.99318916e+00, -7.41741269e-01],\n",
              "       [ 1.47644292e+00, -2.10608593e-01,  1.40375139e+00],\n",
              "       [-1.47168327e+00,  3.83584929e-01,  5.91943358e-01],\n",
              "       [-8.21021838e-01,  8.78746198e-01, -1.14764529e+00],\n",
              "       [-3.26534951e-01, -1.20093113e+00, -7.70734413e-01],\n",
              "       [-1.54721655e+00,  1.85520422e-01,  2.44025629e-01],\n",
              "       [ 1.40339308e+00,  7.79713944e-01, -3.06844108e-01],\n",
              "       [ 2.24069227e-01,  2.06713324e+00, -7.99727558e-01],\n",
              "       [-1.33671674e+00,  7.79713944e-01,  1.28053053e-01],\n",
              "       [-4.02928970e-01, -3.09640847e-01,  6.20936502e-01],\n",
              "       [-1.14736851e+00, -1.00286662e+00, -3.06844108e-01],\n",
              "       [-4.39898370e-01,  1.85520422e-01, -3.64830396e-01],\n",
              "       [ 5.82347864e-01,  2.06713324e+00,  2.12857999e+00],\n",
              "       [ 1.55589905e-02,  1.86906873e+00, -1.26361786e+00],\n",
              "       [-1.11052610e+00,  1.37390747e+00, -9.15700134e-01],\n",
              "       [ 5.96260776e-01,  8.78746198e-01,  1.25878567e+00],\n",
              "       [ 1.13386922e+00,  1.47293972e+00,  2.12857999e+00],\n",
              "       [ 3.02354048e-01, -3.09640847e-01, -1.23462472e+00],\n",
              "       [-4.35312471e-01,  1.96810099e+00,  9.10867943e-01],\n",
              "       [ 8.02499228e-01,  6.80681690e-01, -7.12748125e-01],\n",
              "       [-5.24095472e-01, -1.49802789e+00,  3.59998206e-01],\n",
              "       [ 1.89032960e-01,  7.79713944e-01, -1.35059730e+00],\n",
              "       [ 1.10323542e+00,  3.83584929e-01, -1.32885244e-01],\n",
              "       [ 3.36176815e-01, -1.00286662e+00,  4.17984494e-01],\n",
              "       [ 6.28079858e-01, -1.25440855e-02, -3.06844108e-01],\n",
              "       [ 1.41648758e+00, -1.20093113e+00,  4.17984494e-01],\n",
              "       [ 1.06783101e-01, -9.03834369e-01, -1.20563157e+00],\n",
              "       [-4.44710036e-01, -1.11576339e-01,  4.10736208e-02],\n",
              "       [ 9.94951764e-01, -1.59706014e+00, -4.22816685e-01],\n",
              "       [-3.27296916e-01,  9.77778452e-01, -1.00267957e+00],\n",
              "       [ 2.24605424e-01,  1.07681071e+00, -1.20563157e+00],\n",
              "       [ 3.64665830e-01, -1.25440855e-02, -1.32885244e-01],\n",
              "       [ 1.02586778e+00, -1.10189888e+00, -1.52455616e+00],\n",
              "       [ 1.81554417e-01,  7.79713944e-01, -1.20563157e+00],\n",
              "       [-7.48846846e-01,  9.77778452e-01,  2.07059371e+00],\n",
              "       [-5.16348831e-01, -1.20093113e+00, -1.52455616e+00],\n",
              "       [ 8.66179725e-01, -3.09640847e-01,  7.94895367e-01],\n",
              "       [ 9.30100099e-01,  8.64881682e-02, -3.06844108e-01],\n",
              "       [ 4.88809638e-01, -1.39899564e+00, -1.23462472e+00],\n",
              "       [ 1.87255042e-01, -6.06737608e-01, -1.49556302e+00],\n",
              "       [-2.88803587e-01,  7.79713944e-01,  5.33957070e-01],\n",
              "       [-4.87563497e-01, -3.09640847e-01, -3.35837252e-01],\n",
              "       [ 1.17989754e+00,  1.77003648e+00, -2.77850964e-01],\n",
              "       [-2.73550182e-01,  8.78746198e-01, -1.03167271e+00],\n",
              "       [ 1.29331754e-03,  1.85520422e-01,  7.00667649e-02],\n",
              "       [ 7.41683155e-01, -6.06737608e-01,  8.81874799e-01],\n",
              "       [-2.76922581e-01, -1.89415691e+00, -1.40858358e+00],\n",
              "       [-2.97693175e-01, -1.29996338e+00,  5.91943358e-01],\n",
              "       [ 2.75177306e-01, -3.09640847e-01,  5.33957070e-01],\n",
              "       [ 3.30800731e-01, -1.00286662e+00, -1.08965900e+00],\n",
              "       [-5.28018180e-01,  1.17584296e+00, -1.43757673e+00],\n",
              "       [-6.91290288e-01,  1.85520422e-01, -3.06844108e-01],\n",
              "       [ 4.57808962e-01,  1.17584296e+00, -7.41741269e-01],\n",
              "       [-2.47078963e-01, -3.09640847e-01,  7.00667649e-02],\n",
              "       [ 1.54049029e+00,  1.85520422e-01,  2.09958685e+00],\n",
              "       [-6.43794487e-01,  7.79713944e-01, -1.08965900e+00],\n",
              "       [-3.71109888e-01,  8.64881682e-02,  4.10736208e-02],\n",
              "       [ 1.07457708e+00, -1.79512465e+00,  1.28053053e-01],\n",
              "       [-1.26067549e+00, -9.03834369e-01,  1.57046197e-01],\n",
              "       [ 1.06261014e-01, -7.05769861e-01,  1.86039341e-01],\n",
              "       [ 5.94990834e-01,  8.78746198e-01, -1.29261101e+00],\n",
              "       [-1.53210425e+00,  1.85520422e-01, -2.48857820e-01],\n",
              "       [-5.60655669e-01, -4.08673100e-01,  1.22979253e+00],\n",
              "       [ 8.86229416e-02, -1.25440855e-02,  3.02011918e-01],\n",
              "       [ 1.31867389e+00,  3.83584929e-01,  1.57046197e-01],\n",
              "       [ 1.05676968e+00,  8.78746198e-01, -6.54761837e-01],\n",
              "       [-1.36807018e+00,  8.64881682e-02,  1.57046197e-01],\n",
              "       [ 6.96741346e-01, -1.89415691e+00, -1.29261101e+00],\n",
              "       [ 8.77072998e-01, -1.11576339e-01,  3.02011918e-01],\n",
              "       [-9.62535621e-01, -2.10608593e-01, -2.77850964e-01],\n",
              "       [ 5.49907921e-01,  2.84552676e-01, -5.09796117e-01],\n",
              "       [-1.33986338e+00, -2.10608593e-01,  1.60670340e+00],\n",
              "       [-9.96668818e-01,  9.77778452e-01, -1.17663843e+00],\n",
              "       [ 1.46054043e+00, -2.10608593e-01,  1.63569655e+00],\n",
              "       [-1.23853618e+00,  1.27487521e+00,  1.86764170e+00],\n",
              "       [-1.24835706e+00, -1.10189888e+00, -3.64830396e-01],\n",
              "       [ 6.01044221e-01, -1.25440855e-02,  4.10736208e-02],\n",
              "       [ 7.48370242e-02,  8.64881682e-02, -2.48857820e-01],\n",
              "       [ 1.16358585e+00, -1.59706014e+00, -1.23462472e+00],\n",
              "       [ 9.50334496e-01, -5.07705354e-01, -2.77850964e-01],\n",
              "       [-1.90707683e-01,  9.77778452e-01,  1.28053053e-01],\n",
              "       [ 8.13674711e-01,  1.96810099e+00, -1.35059730e+00],\n",
              "       [-6.31871150e-01,  1.47293972e+00,  7.00667649e-02],\n",
              "       [ 3.62872532e-02, -6.06737608e-01,  1.37475825e+00],\n",
              "       [ 1.22269455e+00,  1.57197197e+00,  1.20804767e-02],\n",
              "       [-1.35177260e+00, -8.04802115e-01,  3.02011918e-01],\n",
              "       [-1.72253899e+00,  1.96810099e+00,  7.36909079e-01],\n",
              "       [-1.20563059e+00, -1.20093113e+00, -5.09796117e-01],\n",
              "       [-2.24713887e-01,  6.80681690e-01,  2.73018773e-01],\n",
              "       [ 4.55719345e-02, -1.39899564e+00, -4.22816685e-01],\n",
              "       [ 4.21559196e-01,  1.85520422e-01,  1.57046197e-01],\n",
              "       [-2.15656243e-02, -5.07705354e-01, -1.20563157e+00],\n",
              "       [ 3.37319762e-01,  5.81649437e-01,  2.01260742e+00],\n",
              "       [-6.89032615e-01, -1.59706014e+00, -1.49556302e+00],\n",
              "       [-1.40824265e+00, -5.07705354e-01, -5.38789261e-01],\n",
              "       [-1.54711905e-01,  4.82617183e-01,  1.83864855e+00],\n",
              "       [ 3.77970722e-02, -1.39899564e+00, -1.08965900e+00],\n",
              "       [ 8.05376492e-02,  7.79713944e-01, -1.37959044e+00],\n",
              "       [-9.67320336e-02, -3.09640847e-01, -4.22816685e-01],\n",
              "       [-3.42874861e-01,  1.57197197e+00,  9.97847375e-01],\n",
              "       [-1.43928566e+00,  9.77778452e-01,  1.43274454e+00],\n",
              "       [-1.65672782e+00, -3.09640847e-01, -4.80802973e-01],\n",
              "       [ 4.46265338e-02, -1.11576339e-01,  2.15757314e+00],\n",
              "       [-1.36280698e+00, -1.49802789e+00, -1.03892100e-01],\n",
              "       [ 4.09607638e-01, -1.11576339e-01,  1.95462113e+00],\n",
              "       [-2.33264824e-01, -7.05769861e-01, -3.35837252e-01],\n",
              "       [-1.70253037e+00, -5.07705354e-01, -8.28720702e-01],\n",
              "       [-1.30712711e+00,  6.80681690e-01, -1.37959044e+00],\n",
              "       [ 1.41516120e+00, -8.04802115e-01, -1.58254245e+00],\n",
              "       [-9.48312279e-01, -1.89415691e+00, -1.46656987e+00],\n",
              "       [ 2.32535502e-01,  1.07681071e+00,  1.28053053e-01],\n",
              "       [-3.66255890e-01,  8.64881682e-02,  1.51972397e+00],\n",
              "       [-1.63712839e+00, -3.09640847e-01,  9.90599089e-02],\n",
              "       [-9.10072938e-01,  8.64881682e-02,  4.10736208e-02],\n",
              "       [-1.51831834e+00, -1.39899564e+00, -1.35059730e+00],\n",
              "       [-1.15817712e+00,  2.84552676e-01,  7.00667649e-02],\n",
              "       [ 1.34439725e+00, -9.03834369e-01,  3.88991350e-01],\n",
              "       [-9.44855217e-01,  1.57197197e+00, -1.26361786e+00],\n",
              "       [ 2.50103022e-01, -3.09640847e-01, -7.41741269e-01],\n",
              "       [-1.41721691e+00, -1.11576339e-01,  1.57046197e-01],\n",
              "       [-1.57945895e+00, -9.03834369e-01, -6.54761837e-01],\n",
              "       [-1.36014010e+00, -7.05769861e-01, -4.59058115e-02],\n",
              "       [ 1.35225678e+00,  3.83584929e-01, -4.51809829e-01],\n",
              "       [ 5.07689431e-01, -8.04802115e-01,  1.89663484e+00],\n",
              "       [ 1.45125575e+00,  1.37390747e+00,  1.28777882e+00],\n",
              "       [ 9.59054759e-01,  1.17584296e+00, -9.73686422e-01],\n",
              "       [-8.98884615e-02,  1.77003648e+00,  1.83864855e+00],\n",
              "       [ 1.24377558e+00, -9.03834369e-01, -2.48857820e-01],\n",
              "       [ 1.28846340e+00, -8.04802115e-01,  5.62950214e-01],\n",
              "       [-8.66430562e-02, -1.20093113e+00, -1.55354930e+00],\n",
              "       [ 1.54552772e+00, -5.07705354e-01, -1.11865214e+00],\n",
              "       [-2.86856344e-01,  2.84552676e-01,  7.00667649e-02],\n",
              "       [ 8.93215362e-01, -2.10608593e-01, -1.06066585e+00],\n",
              "       [-2.66621947e-01,  1.67100423e+00,  1.60670340e+00],\n",
              "       [-1.64343577e+00,  9.77778452e-01,  1.78066227e+00],\n",
              "       [ 1.65982243e+00,  2.84552676e-01,  4.10736208e-02],\n",
              "       [ 1.50900986e+00, -8.04802115e-01, -2.19864676e-01],\n",
              "       [ 6.96106376e-01, -1.11576339e-01,  7.00667649e-02],\n",
              "       [ 3.53673783e-01,  2.84552676e-01, -1.90871532e-01],\n",
              "       [-1.65578242e+00,  1.96810099e+00, -6.54761837e-01],\n",
              "       [-7.80143842e-01, -8.04802115e-01,  1.34576510e+00],\n",
              "       [ 2.50596888e-01, -1.79512465e+00, -5.96775549e-01],\n",
              "       [-1.55827915e+00, -1.11576339e-01,  1.28053053e-01],\n",
              "       [ 1.44570907e-01,  2.84552676e-01, -3.06844108e-01],\n",
              "       [-1.34323578e+00,  1.07681071e+00,  5.62950214e-01],\n",
              "       [ 1.63349232e+00, -1.00286662e+00,  2.73018773e-01],\n",
              "       [-1.13624947e+00,  1.47293972e+00,  3.59998206e-01],\n",
              "       [ 1.45022569e+00,  1.85520422e-01, -3.64830396e-01],\n",
              "       [-1.20283672e+00,  2.16616550e+00, -1.03167271e+00],\n",
              "       [ 1.14409930e+00, -3.09640847e-01,  1.11381995e+00],\n",
              "       [ 1.55132712e+00, -1.69609240e+00,  7.00667649e-02],\n",
              "       [ 1.24211054e+00, -1.25440855e-02,  4.10736208e-02],\n",
              "       [-1.44303904e+00,  8.64881682e-02,  1.05583366e+00],\n",
              "       [ 8.27136088e-01, -1.11576339e-01, -3.64830396e-01],\n",
              "       [-2.81508480e-01, -1.20093113e+00,  7.00667649e-02],\n",
              "       [-2.83074741e-01, -3.09640847e-01, -1.35059730e+00],\n",
              "       [ 1.07852801e+00,  1.57197197e+00,  1.11381995e+00],\n",
              "       [ 4.38011990e-01, -8.04802115e-01, -1.52455616e+00],\n",
              "       [-1.48102440e+00,  8.64881682e-02,  1.86764170e+00],\n",
              "       [ 7.45210769e-01, -9.03834369e-01, -7.70734413e-01],\n",
              "       [-1.24732699e+00, -5.07705354e-01, -7.70734413e-01],\n",
              "       [ 9.32992743e-01, -3.09640847e-01, -9.15700134e-01],\n",
              "       [-1.62972040e+00,  2.84552676e-01, -7.12748125e-01],\n",
              "       [-1.47765200e+00,  2.84552676e-01,  7.00667649e-02],\n",
              "       [ 6.18498857e-01,  8.64881682e-02,  1.86764170e+00],\n",
              "       [ 5.26851433e-01, -1.10189888e+00,  1.95462113e+00],\n",
              "       [-1.66876404e+00, -1.69609240e+00, -1.55354930e+00],\n",
              "       [ 7.55130421e-01, -1.20093113e+00, -1.08965900e+00],\n",
              "       [ 1.73699252e+00, -7.05769861e-01, -1.03892100e-01],\n",
              "       [-8.72468568e-01,  8.64881682e-02,  9.90599089e-02],\n",
              "       [-5.93321379e-01,  2.84552676e-01,  2.73018773e-01],\n",
              "       [ 1.07741328e+00,  8.78746198e-01, -5.67782405e-01],\n",
              "       [ 8.10132986e-01,  2.84552676e-01, -1.14764529e+00],\n",
              "       [ 5.98913542e-01, -1.11576339e-01,  6.78922791e-01],\n",
              "       [-1.13287707e+00,  2.16616550e+00, -6.83754981e-01],\n",
              "       [-1.37068062e+00, -1.29996338e+00, -1.37959044e+00],\n",
              "       [ 9.18642407e-01, -1.00286662e+00, -9.44693278e-01],\n",
              "       [ 1.68032493e+00, -1.25440855e-02, -4.22816685e-01],\n",
              "       [-1.27228839e+00, -2.10608593e-01, -4.51809829e-01],\n",
              "       [-1.61894128e-01, -1.79512465e+00, -9.73686422e-01],\n",
              "       [ 1.09891762e+00,  1.77003648e+00,  9.97847375e-01],\n",
              "       [-3.49846698e-02,  1.85520422e-01, -3.64830396e-01],\n",
              "       [ 1.54678355e+00,  3.83584929e-01,  1.11381995e+00],\n",
              "       [-1.36149471e+00, -1.79512465e+00, -1.35059730e+00],\n",
              "       [-1.47509800e+00,  1.85520422e-01, -1.32885244e-01],\n",
              "       [-8.54491845e-01,  8.78746198e-01, -1.43757673e+00],\n",
              "       [-1.59417616e+00, -1.99318916e+00,  4.75970782e-01],\n",
              "       [-1.11827274e+00, -3.09640847e-01,  2.73018773e-01],\n",
              "       [ 1.62530825e+00,  1.86906873e+00, -1.06066585e+00],\n",
              "       [-6.69122759e-01, -4.08673100e-01,  7.00667649e-02],\n",
              "       [ 4.57653747e-01,  1.07681071e+00, -8.86706990e-01],\n",
              "       [ 1.28531677e+00, -1.10189888e+00, -1.11865214e+00],\n",
              "       [-4.06597689e-01, -1.89415691e+00,  1.20804767e-02],\n",
              "       [ 7.81446425e-01,  8.64881682e-02,  2.73018773e-01],\n",
              "       [ 1.08791146e+00, -1.20093113e+00,  3.31005062e-01],\n",
              "       [ 9.20222779e-01, -1.29996338e+00,  3.02011918e-01],\n",
              "       [-8.43866670e-01, -1.00286662e+00,  4.46977638e-01],\n",
              "       [-9.35824524e-01,  1.67100423e+00, -8.86706990e-01],\n",
              "       [ 1.25379400e+00,  1.17584296e+00,  5.33957070e-01],\n",
              "       [ 1.02847821e+00,  1.07681071e+00,  5.33957070e-01],\n",
              "       [ 6.23141198e-01,  1.37390747e+00,  2.33153200e+00],\n",
              "       [ 5.02256905e-01, -3.09640847e-01, -1.32885244e-01],\n",
              "       [ 2.46462524e-01,  3.83584929e-01, -4.51809829e-01],\n",
              "       [-3.38288963e-01, -4.08673100e-01, -7.70734413e-01],\n",
              "       [ 4.46689922e-01, -1.11576339e-01, -5.09796117e-01],\n",
              "       [-1.01949954e+00,  9.77778452e-01, -1.14764529e+00],\n",
              "       [ 1.23981054e+00, -9.03834369e-01, -7.70734413e-01],\n",
              "       [-1.41504390e+00, -2.10608593e-01, -5.09796117e-01],\n",
              "       [ 1.19419143e+00, -1.10189888e+00, -4.51809829e-01],\n",
              "       [ 1.45259625e+00, -1.20093113e+00,  1.40375139e+00]])"
            ]
          },
          "metadata": {},
          "execution_count": 29
        }
      ]
    },
    {
      "cell_type": "markdown",
      "source": [
        "Training the model using Logistic Regression"
      ],
      "metadata": {
        "id": "bd6mL-1ZMDxf"
      }
    },
    {
      "cell_type": "code",
      "source": [
        "from sklearn.linear_model import LogisticRegression"
      ],
      "metadata": {
        "id": "zETbuAr3IxnM"
      },
      "execution_count": null,
      "outputs": []
    },
    {
      "cell_type": "code",
      "source": [
        "model = LogisticRegression()"
      ],
      "metadata": {
        "id": "SaApf7iGJQuT"
      },
      "execution_count": null,
      "outputs": []
    },
    {
      "cell_type": "code",
      "source": [
        "model.fit(X_train, y_train)"
      ],
      "metadata": {
        "colab": {
          "base_uri": "https://localhost:8080/"
        },
        "id": "258JVvB3JvLJ",
        "outputId": "33c5ccb8-124a-47dc-e7ac-f32525c19689"
      },
      "execution_count": null,
      "outputs": [
        {
          "output_type": "execute_result",
          "data": {
            "text/plain": [
              "LogisticRegression()"
            ]
          },
          "metadata": {},
          "execution_count": 32
        }
      ]
    },
    {
      "cell_type": "code",
      "source": [
        "from sklearn.metrics import accuracy_score, precision_score, recall_score"
      ],
      "metadata": {
        "id": "r4XlpgDoJzJI"
      },
      "execution_count": null,
      "outputs": []
    },
    {
      "cell_type": "code",
      "source": [
        "pred = model.predict(X_test)"
      ],
      "metadata": {
        "id": "XsLLgyKVJ9ro"
      },
      "execution_count": null,
      "outputs": []
    },
    {
      "cell_type": "code",
      "source": [
        "score = accuracy_score(y_test, pred)"
      ],
      "metadata": {
        "id": "Mzjkr3zDKE-w"
      },
      "execution_count": null,
      "outputs": []
    },
    {
      "cell_type": "code",
      "source": [
        "print(\"Model: Logistic Regression\")\n",
        "print(\"===========================\")\n",
        "print(\"Accuracy Score: {:0.2f}\".format(score))\n",
        "print(\"===========================\")\n",
        "print(\"Precision Score: {:0.2f}\".format(precision_score(y_test, pred)))\n",
        "print(\"===========================\")\n",
        "print(\"Recall Score: {:0.2f}\".format(recall_score(y_test, pred)))"
      ],
      "metadata": {
        "colab": {
          "base_uri": "https://localhost:8080/"
        },
        "id": "5JhPayP2KoO-",
        "outputId": "b214aa6b-c2a4-41ed-8dee-beea861bc631"
      },
      "execution_count": null,
      "outputs": [
        {
          "output_type": "stream",
          "name": "stdout",
          "text": [
            "Model: Logistic Regression\n",
            "===========================\n",
            "Accuracy Score: 0.90\n",
            "===========================\n",
            "Precision Score: 0.92\n",
            "===========================\n",
            "Recall Score: 0.75\n"
          ]
        }
      ]
    },
    {
      "cell_type": "code",
      "source": [
        "from sklearn.metrics import classification_report, confusion_matrix, auc, roc_curve, ConfusionMatrixDisplay"
      ],
      "metadata": {
        "id": "KX4OMcuuLRB1"
      },
      "execution_count": null,
      "outputs": []
    },
    {
      "cell_type": "code",
      "source": [
        "cm = confusion_matrix(y_test, pred)"
      ],
      "metadata": {
        "id": "yKVDN6ewM_Sg"
      },
      "execution_count": null,
      "outputs": []
    },
    {
      "cell_type": "code",
      "source": [
        "tn, fp, fn, tp = cm.ravel()"
      ],
      "metadata": {
        "id": "n-9Om_mlNEPP"
      },
      "execution_count": null,
      "outputs": []
    },
    {
      "cell_type": "code",
      "source": [
        "tn, fp, fn, tp"
      ],
      "metadata": {
        "colab": {
          "base_uri": "https://localhost:8080/"
        },
        "id": "zDnM9pi4NL-W",
        "outputId": "c372b90d-52fb-46d3-e875-f701d6b88f46"
      },
      "execution_count": null,
      "outputs": [
        {
          "output_type": "execute_result",
          "data": {
            "text/plain": [
              "(66, 2, 8, 24)"
            ]
          },
          "metadata": {},
          "execution_count": 46
        }
      ]
    },
    {
      "cell_type": "code",
      "source": [
        "cm_display = ConfusionMatrixDisplay(cm).plot()"
      ],
      "metadata": {
        "colab": {
          "base_uri": "https://localhost:8080/",
          "height": 279
        },
        "id": "BI53LTrjNOOw",
        "outputId": "95cee9bd-4daf-4b26-e833-cd1dbc5fb43f"
      },
      "execution_count": null,
      "outputs": [
        {
          "output_type": "display_data",
          "data": {
            "image/png": "[encoded data removed]",
            "text/plain": [
              "<Figure size 432x288 with 2 Axes>"
            ]
          },
          "metadata": {
            "needs_background": "light"
          }
        }
      ]
    },
    {
      "cell_type": "markdown",
      "source": [
        "## Diabetes Dataset"
      ],
      "metadata": {
        "id": "UVtxGkTJO2su"
      }
    },
    {
      "cell_type": "code",
      "source": [
        "dbdf = pd.read_csv(\"diabetes.csv\")"
      ],
      "metadata": {
        "id": "Rm7n63U_NUYO"
      },
      "execution_count": null,
      "outputs": []
    },
    {
      "cell_type": "code",
      "source": [
        "dbdf.shape"
      ],
      "metadata": {
        "colab": {
          "base_uri": "https://localhost:8080/"
        },
        "id": "Z3IZ6SGjPAIJ",
        "outputId": "f9399bef-9a7c-43d8-a4fd-8853f92400a3"
      },
      "execution_count": null,
      "outputs": [
        {
          "output_type": "execute_result",
          "data": {
            "text/plain": [
              "(768, 9)"
            ]
          },
          "metadata": {},
          "execution_count": 50
        }
      ]
    },
    {
      "cell_type": "code",
      "source": [
        "dbdf.dtypes\n"
      ],
      "metadata": {
        "colab": {
          "base_uri": "https://localhost:8080/"
        },
        "id": "5ZxF4RO9PLPw",
        "outputId": "42365174-825f-407b-fbec-c5fd484cf98a"
      },
      "execution_count": null,
      "outputs": [
        {
          "output_type": "execute_result",
          "data": {
            "text/plain": [
              "Pregnancies                   int64\n",
              "Glucose                       int64\n",
              "BloodPressure                 int64\n",
              "SkinThickness                 int64\n",
              "Insulin                       int64\n",
              "BMI                         float64\n",
              "DiabetesPedigreeFunction    float64\n",
              "Age                           int64\n",
              "Outcome                       int64\n",
              "dtype: object"
            ]
          },
          "metadata": {},
          "execution_count": 51
        }
      ]
    },
    {
      "cell_type": "code",
      "source": [
        "dbdf.head()"
      ],
      "metadata": {
        "colab": {
          "base_uri": "https://localhost:8080/",
          "height": 206
        },
        "id": "-D7kfLwBPQ_P",
        "outputId": "50863419-fc80-4630-f2c1-2521560566af"
      },
      "execution_count": null,
      "outputs": [
        {
          "output_type": "execute_result",
          "data": {
            "text/html": [
              "\n",
              "  <div id=\"df-3d258a36-638d-4faf-aba0-5178a34a11e5\">\n",
              "    <div class=\"colab-df-container\">\n",
              "      <div>\n",
              "<style scoped>\n",
              "    .dataframe tbody tr th:only-of-type {\n",
              "        vertical-align: middle;\n",
              "    }\n",
              "\n",
              "    .dataframe tbody tr th {\n",
              "        vertical-align: top;\n",
              "    }\n",
              "\n",
              "    .dataframe thead th {\n",
              "        text-align: right;\n",
              "    }\n",
              "</style>\n",
              "<table border=\"1\" class=\"dataframe\">\n",
              "  <thead>\n",
              "    <tr style=\"text-align: right;\">\n",
              "      <th></th>\n",
              "      <th>Pregnancies</th>\n",
              "      <th>Glucose</th>\n",
              "      <th>BloodPressure</th>\n",
              "      <th>SkinThickness</th>\n",
              "      <th>Insulin</th>\n",
              "      <th>BMI</th>\n",
              "      <th>DiabetesPedigreeFunction</th>\n",
              "      <th>Age</th>\n",
              "      <th>Outcome</th>\n",
              "    </tr>\n",
              "  </thead>\n",
              "  <tbody>\n",
              "    <tr>\n",
              "      <th>0</th>\n",
              "      <td>6</td>\n",
              "      <td>148</td>\n",
              "      <td>72</td>\n",
              "      <td>35</td>\n",
              "      <td>0</td>\n",
              "      <td>33.6</td>\n",
              "      <td>0.627</td>\n",
              "      <td>50</td>\n",
              "      <td>1</td>\n",
              "    </tr>\n",
              "    <tr>\n",
              "      <th>1</th>\n",
              "      <td>1</td>\n",
              "      <td>85</td>\n",
              "      <td>66</td>\n",
              "      <td>29</td>\n",
              "      <td>0</td>\n",
              "      <td>26.6</td>\n",
              "      <td>0.351</td>\n",
              "      <td>31</td>\n",
              "      <td>0</td>\n",
              "    </tr>\n",
              "    <tr>\n",
              "      <th>2</th>\n",
              "      <td>8</td>\n",
              "      <td>183</td>\n",
              "      <td>64</td>\n",
              "      <td>0</td>\n",
              "      <td>0</td>\n",
              "      <td>23.3</td>\n",
              "      <td>0.672</td>\n",
              "      <td>32</td>\n",
              "      <td>1</td>\n",
              "    </tr>\n",
              "    <tr>\n",
              "      <th>3</th>\n",
              "      <td>1</td>\n",
              "      <td>89</td>\n",
              "      <td>66</td>\n",
              "      <td>23</td>\n",
              "      <td>94</td>\n",
              "      <td>28.1</td>\n",
              "      <td>0.167</td>\n",
              "      <td>21</td>\n",
              "      <td>0</td>\n",
              "    </tr>\n",
              "    <tr>\n",
              "      <th>4</th>\n",
              "      <td>0</td>\n",
              "      <td>137</td>\n",
              "      <td>40</td>\n",
              "      <td>35</td>\n",
              "      <td>168</td>\n",
              "      <td>43.1</td>\n",
              "      <td>2.288</td>\n",
              "      <td>33</td>\n",
              "      <td>1</td>\n",
              "    </tr>\n",
              "  </tbody>\n",
              "</table>\n",
              "</div>\n",
              "      <button class=\"colab-df-convert\" onclick=\"convertToInteractive('df-3d258a36-638d-4faf-aba0-5178a34a11e5')\"\n",
              "              title=\"Convert this dataframe to an interactive table.\"\n",
              "              style=\"display:none;\">\n",
              "        \n",
              "  <svg xmlns=\"http://www.w3.org/2000/svg\" height=\"24px\"viewBox=\"0 0 24 24\"\n",
              "       width=\"24px\">\n",
              "    <path d=\"M0 0h24v24H0V0z\" fill=\"none\"/>\n",
              "    <path d=\"M18.56 5.44l.94 2.06.94-2.06 2.06-.94-2.06-.94-.94-2.06-.94 2.06-2.06.94zm-11 1L8.5 8.5l.94-2.06 2.06-.94-2.06-.94L8.5 2.5l-.94 2.06-2.06.94zm10 10l.94 2.06.94-2.06 2.06-.94-2.06-.94-.94-2.06-.94 2.06-2.06.94z\"/><path d=\"M17.41 7.96l-1.37-1.37c-.4-.4-.92-.59-1.43-.59-.52 0-1.04.2-1.43.59L10.3 9.45l-7.72 7.72c-.78.78-.78 2.05 0 2.83L4 21.41c.39.39.9.59 1.41.59.51 0 1.02-.2 1.41-.59l7.78-7.78 2.81-2.81c.8-.78.8-2.07 0-2.86zM5.41 20L4 18.59l7.72-7.72 1.47 1.35L5.41 20z\"/>\n",
              "  </svg>\n",
              "      </button>\n",
              "      \n",
              "  <style>\n",
              "    .colab-df-container {\n",
              "      display:flex;\n",
              "      flex-wrap:wrap;\n",
              "      gap: 12px;\n",
              "    }\n",
              "\n",
              "    .colab-df-convert {\n",
              "      background-color: #E8F0FE;\n",
              "      border: none;\n",
              "      border-radius: 50%;\n",
              "      cursor: pointer;\n",
              "      display: none;\n",
              "      fill: #1967D2;\n",
              "      height: 32px;\n",
              "      padding: 0 0 0 0;\n",
              "      width: 32px;\n",
              "    }\n",
              "\n",
              "    .colab-df-convert:hover {\n",
              "      background-color: #E2EBFA;\n",
              "      box-shadow: 0px 1px 2px rgba(60, 64, 67, 0.3), 0px 1px 3px 1px rgba(60, 64, 67, 0.15);\n",
              "      fill: #174EA6;\n",
              "    }\n",
              "\n",
              "    [theme=dark] .colab-df-convert {\n",
              "      background-color: #3B4455;\n",
              "      fill: #D2E3FC;\n",
              "    }\n",
              "\n",
              "    [theme=dark] .colab-df-convert:hover {\n",
              "      background-color: #434B5C;\n",
              "      box-shadow: 0px 1px 3px 1px rgba(0, 0, 0, 0.15);\n",
              "      filter: drop-shadow(0px 1px 2px rgba(0, 0, 0, 0.3));\n",
              "      fill: #FFFFFF;\n",
              "    }\n",
              "  </style>\n",
              "\n",
              "      <script>\n",
              "        const buttonEl =\n",
              "          document.querySelector('#df-3d258a36-638d-4faf-aba0-5178a34a11e5 button.colab-df-convert');\n",
              "        buttonEl.style.display =\n",
              "          google.colab.kernel.accessAllowed ? 'block' : 'none';\n",
              "\n",
              "        async function convertToInteractive(key) {\n",
              "          const element = document.querySelector('#df-3d258a36-638d-4faf-aba0-5178a34a11e5');\n",
              "          const dataTable =\n",
              "            await google.colab.kernel.invokeFunction('convertToInteractive',\n",
              "                                                     [key], {});\n",
              "          if (!dataTable) return;\n",
              "\n",
              "          const docLinkHtml = 'Like what you see? Visit the ' +\n",
              "            '<a target=\"_blank\" href=https://colab.research.google.com/notebooks/data_table.ipynb>data table notebook</a>'\n",
              "            + ' to learn more about interactive tables.';\n",
              "          element.innerHTML = '';\n",
              "          dataTable['output_type'] = 'display_data';\n",
              "          await google.colab.output.renderOutput(dataTable, element);\n",
              "          const docLink = document.createElement('div');\n",
              "          docLink.innerHTML = docLinkHtml;\n",
              "          element.appendChild(docLink);\n",
              "        }\n",
              "      </script>\n",
              "    </div>\n",
              "  </div>\n",
              "  "
            ],
            "text/plain": [
              "   Pregnancies  Glucose  BloodPressure  SkinThickness  Insulin   BMI  \\\n",
              "0            6      148             72             35        0  33.6   \n",
              "1            1       85             66             29        0  26.6   \n",
              "2            8      183             64              0        0  23.3   \n",
              "3            1       89             66             23       94  28.1   \n",
              "4            0      137             40             35      168  43.1   \n",
              "\n",
              "   DiabetesPedigreeFunction  Age  Outcome  \n",
              "0                     0.627   50        1  \n",
              "1                     0.351   31        0  \n",
              "2                     0.672   32        1  \n",
              "3                     0.167   21        0  \n",
              "4                     2.288   33        1  "
            ]
          },
          "metadata": {},
          "execution_count": 52
        }
      ]
    },
    {
      "cell_type": "code",
      "source": [
        "\n",
        "dbdf.describe()"
      ],
      "metadata": {
        "colab": {
          "base_uri": "https://localhost:8080/",
          "height": 364
        },
        "id": "pmpKF11aPSFX",
        "outputId": "909286d7-9d07-47cf-a48c-6ecca3fca2d3"
      },
      "execution_count": null,
      "outputs": [
        {
          "output_type": "execute_result",
          "data": {
            "text/html": [
              "\n",
              "  <div id=\"df-0fd34451-eefd-4bf6-bf98-8ac9aca600ca\">\n",
              "    <div class=\"colab-df-container\">\n",
              "      <div>\n",
              "<style scoped>\n",
              "    .dataframe tbody tr th:only-of-type {\n",
              "        vertical-align: middle;\n",
              "    }\n",
              "\n",
              "    .dataframe tbody tr th {\n",
              "        vertical-align: top;\n",
              "    }\n",
              "\n",
              "    .dataframe thead th {\n",
              "        text-align: right;\n",
              "    }\n",
              "</style>\n",
              "<table border=\"1\" class=\"dataframe\">\n",
              "  <thead>\n",
              "    <tr style=\"text-align: right;\">\n",
              "      <th></th>\n",
              "      <th>Pregnancies</th>\n",
              "      <th>Glucose</th>\n",
              "      <th>BloodPressure</th>\n",
              "      <th>SkinThickness</th>\n",
              "      <th>Insulin</th>\n",
              "      <th>BMI</th>\n",
              "      <th>DiabetesPedigreeFunction</th>\n",
              "      <th>Age</th>\n",
              "      <th>Outcome</th>\n",
              "    </tr>\n",
              "  </thead>\n",
              "  <tbody>\n",
              "    <tr>\n",
              "      <th>count</th>\n",
              "      <td>768.000000</td>\n",
              "      <td>768.000000</td>\n",
              "      <td>768.000000</td>\n",
              "      <td>768.000000</td>\n",
              "      <td>768.000000</td>\n",
              "      <td>768.000000</td>\n",
              "      <td>768.000000</td>\n",
              "      <td>768.000000</td>\n",
              "      <td>768.000000</td>\n",
              "    </tr>\n",
              "    <tr>\n",
              "      <th>mean</th>\n",
              "      <td>3.845052</td>\n",
              "      <td>120.894531</td>\n",
              "      <td>69.105469</td>\n",
              "      <td>20.536458</td>\n",
              "      <td>79.799479</td>\n",
              "      <td>31.992578</td>\n",
              "      <td>0.471876</td>\n",
              "      <td>33.240885</td>\n",
              "      <td>0.348958</td>\n",
              "    </tr>\n",
              "    <tr>\n",
              "      <th>std</th>\n",
              "      <td>3.369578</td>\n",
              "      <td>31.972618</td>\n",
              "      <td>19.355807</td>\n",
              "      <td>15.952218</td>\n",
              "      <td>115.244002</td>\n",
              "      <td>7.884160</td>\n",
              "      <td>0.331329</td>\n",
              "      <td>11.760232</td>\n",
              "      <td>0.476951</td>\n",
              "    </tr>\n",
              "    <tr>\n",
              "      <th>min</th>\n",
              "      <td>0.000000</td>\n",
              "      <td>0.000000</td>\n",
              "      <td>0.000000</td>\n",
              "      <td>0.000000</td>\n",
              "      <td>0.000000</td>\n",
              "      <td>0.000000</td>\n",
              "      <td>0.078000</td>\n",
              "      <td>21.000000</td>\n",
              "      <td>0.000000</td>\n",
              "    </tr>\n",
              "    <tr>\n",
              "      <th>25%</th>\n",
              "      <td>1.000000</td>\n",
              "      <td>99.000000</td>\n",
              "      <td>62.000000</td>\n",
              "      <td>0.000000</td>\n",
              "      <td>0.000000</td>\n",
              "      <td>27.300000</td>\n",
              "      <td>0.243750</td>\n",
              "      <td>24.000000</td>\n",
              "      <td>0.000000</td>\n",
              "    </tr>\n",
              "    <tr>\n",
              "      <th>50%</th>\n",
              "      <td>3.000000</td>\n",
              "      <td>117.000000</td>\n",
              "      <td>72.000000</td>\n",
              "      <td>23.000000</td>\n",
              "      <td>30.500000</td>\n",
              "      <td>32.000000</td>\n",
              "      <td>0.372500</td>\n",
              "      <td>29.000000</td>\n",
              "      <td>0.000000</td>\n",
              "    </tr>\n",
              "    <tr>\n",
              "      <th>75%</th>\n",
              "      <td>6.000000</td>\n",
              "      <td>140.250000</td>\n",
              "      <td>80.000000</td>\n",
              "      <td>32.000000</td>\n",
              "      <td>127.250000</td>\n",
              "      <td>36.600000</td>\n",
              "      <td>0.626250</td>\n",
              "      <td>41.000000</td>\n",
              "      <td>1.000000</td>\n",
              "    </tr>\n",
              "    <tr>\n",
              "      <th>max</th>\n",
              "      <td>17.000000</td>\n",
              "      <td>199.000000</td>\n",
              "      <td>122.000000</td>\n",
              "      <td>99.000000</td>\n",
              "      <td>846.000000</td>\n",
              "      <td>67.100000</td>\n",
              "      <td>2.420000</td>\n",
              "      <td>81.000000</td>\n",
              "      <td>1.000000</td>\n",
              "    </tr>\n",
              "  </tbody>\n",
              "</table>\n",
              "</div>\n",
              "      <button class=\"colab-df-convert\" onclick=\"convertToInteractive('df-0fd34451-eefd-4bf6-bf98-8ac9aca600ca')\"\n",
              "              title=\"Convert this dataframe to an interactive table.\"\n",
              "              style=\"display:none;\">\n",
              "        \n",
              "  <svg xmlns=\"http://www.w3.org/2000/svg\" height=\"24px\"viewBox=\"0 0 24 24\"\n",
              "       width=\"24px\">\n",
              "    <path d=\"M0 0h24v24H0V0z\" fill=\"none\"/>\n",
              "    <path d=\"M18.56 5.44l.94 2.06.94-2.06 2.06-.94-2.06-.94-.94-2.06-.94 2.06-2.06.94zm-11 1L8.5 8.5l.94-2.06 2.06-.94-2.06-.94L8.5 2.5l-.94 2.06-2.06.94zm10 10l.94 2.06.94-2.06 2.06-.94-2.06-.94-.94-2.06-.94 2.06-2.06.94z\"/><path d=\"M17.41 7.96l-1.37-1.37c-.4-.4-.92-.59-1.43-.59-.52 0-1.04.2-1.43.59L10.3 9.45l-7.72 7.72c-.78.78-.78 2.05 0 2.83L4 21.41c.39.39.9.59 1.41.59.51 0 1.02-.2 1.41-.59l7.78-7.78 2.81-2.81c.8-.78.8-2.07 0-2.86zM5.41 20L4 18.59l7.72-7.72 1.47 1.35L5.41 20z\"/>\n",
              "  </svg>\n",
              "      </button>\n",
              "      \n",
              "  <style>\n",
              "    .colab-df-container {\n",
              "      display:flex;\n",
              "      flex-wrap:wrap;\n",
              "      gap: 12px;\n",
              "    }\n",
              "\n",
              "    .colab-df-convert {\n",
              "      background-color: #E8F0FE;\n",
              "      border: none;\n",
              "      border-radius: 50%;\n",
              "      cursor: pointer;\n",
              "      display: none;\n",
              "      fill: #1967D2;\n",
              "      height: 32px;\n",
              "      padding: 0 0 0 0;\n",
              "      width: 32px;\n",
              "    }\n",
              "\n",
              "    .colab-df-convert:hover {\n",
              "      background-color: #E2EBFA;\n",
              "      box-shadow: 0px 1px 2px rgba(60, 64, 67, 0.3), 0px 1px 3px 1px rgba(60, 64, 67, 0.15);\n",
              "      fill: #174EA6;\n",
              "    }\n",
              "\n",
              "    [theme=dark] .colab-df-convert {\n",
              "      background-color: #3B4455;\n",
              "      fill: #D2E3FC;\n",
              "    }\n",
              "\n",
              "    [theme=dark] .colab-df-convert:hover {\n",
              "      background-color: #434B5C;\n",
              "      box-shadow: 0px 1px 3px 1px rgba(0, 0, 0, 0.15);\n",
              "      filter: drop-shadow(0px 1px 2px rgba(0, 0, 0, 0.3));\n",
              "      fill: #FFFFFF;\n",
              "    }\n",
              "  </style>\n",
              "\n",
              "      <script>\n",
              "        const buttonEl =\n",
              "          document.querySelector('#df-0fd34451-eefd-4bf6-bf98-8ac9aca600ca button.colab-df-convert');\n",
              "        buttonEl.style.display =\n",
              "          google.colab.kernel.accessAllowed ? 'block' : 'none';\n",
              "\n",
              "        async function convertToInteractive(key) {\n",
              "          const element = document.querySelector('#df-0fd34451-eefd-4bf6-bf98-8ac9aca600ca');\n",
              "          const dataTable =\n",
              "            await google.colab.kernel.invokeFunction('convertToInteractive',\n",
              "                                                     [key], {});\n",
              "          if (!dataTable) return;\n",
              "\n",
              "          const docLinkHtml = 'Like what you see? Visit the ' +\n",
              "            '<a target=\"_blank\" href=https://colab.research.google.com/notebooks/data_table.ipynb>data table notebook</a>'\n",
              "            + ' to learn more about interactive tables.';\n",
              "          element.innerHTML = '';\n",
              "          dataTable['output_type'] = 'display_data';\n",
              "          await google.colab.output.renderOutput(dataTable, element);\n",
              "          const docLink = document.createElement('div');\n",
              "          docLink.innerHTML = docLinkHtml;\n",
              "          element.appendChild(docLink);\n",
              "        }\n",
              "      </script>\n",
              "    </div>\n",
              "  </div>\n",
              "  "
            ],
            "text/plain": [
              "       Pregnancies     Glucose  BloodPressure  SkinThickness     Insulin  \\\n",
              "count   768.000000  768.000000     768.000000     768.000000  768.000000   \n",
              "mean      3.845052  120.894531      69.105469      20.536458   79.799479   \n",
              "std       3.369578   31.972618      19.355807      15.952218  115.244002   \n",
              "min       0.000000    0.000000       0.000000       0.000000    0.000000   \n",
              "25%       1.000000   99.000000      62.000000       0.000000    0.000000   \n",
              "50%       3.000000  117.000000      72.000000      23.000000   30.500000   \n",
              "75%       6.000000  140.250000      80.000000      32.000000  127.250000   \n",
              "max      17.000000  199.000000     122.000000      99.000000  846.000000   \n",
              "\n",
              "              BMI  DiabetesPedigreeFunction         Age     Outcome  \n",
              "count  768.000000                768.000000  768.000000  768.000000  \n",
              "mean    31.992578                  0.471876   33.240885    0.348958  \n",
              "std      7.884160                  0.331329   11.760232    0.476951  \n",
              "min      0.000000                  0.078000   21.000000    0.000000  \n",
              "25%     27.300000                  0.243750   24.000000    0.000000  \n",
              "50%     32.000000                  0.372500   29.000000    0.000000  \n",
              "75%     36.600000                  0.626250   41.000000    1.000000  \n",
              "max     67.100000                  2.420000   81.000000    1.000000  "
            ]
          },
          "metadata": {},
          "execution_count": 53
        }
      ]
    },
    {
      "cell_type": "code",
      "source": [
        "\n",
        "dbdf.isnull().sum()"
      ],
      "metadata": {
        "colab": {
          "base_uri": "https://localhost:8080/"
        },
        "id": "77gPJ_drPS7n",
        "outputId": "cb3cd787-a2d8-4f43-8428-aea7e4809af1"
      },
      "execution_count": null,
      "outputs": [
        {
          "output_type": "execute_result",
          "data": {
            "text/plain": [
              "Pregnancies                 0\n",
              "Glucose                     0\n",
              "BloodPressure               0\n",
              "SkinThickness               0\n",
              "Insulin                     0\n",
              "BMI                         0\n",
              "DiabetesPedigreeFunction    0\n",
              "Age                         0\n",
              "Outcome                     0\n",
              "dtype: int64"
            ]
          },
          "metadata": {},
          "execution_count": 54
        }
      ]
    },
    {
      "cell_type": "code",
      "source": [
        "import matplotlib.pyplot as plt\n",
        "plt.title(\"Outlier detection\")\n",
        "plt.xlabel(\"Glucose\")\n",
        "plt.boxplot(dbdf[\"Glucose\"])"
      ],
      "metadata": {
        "colab": {
          "base_uri": "https://localhost:8080/",
          "height": 434
        },
        "id": "M_0UPp39PTQP",
        "outputId": "213ee467-9106-4311-cb8a-45477f4706e2"
      },
      "execution_count": null,
      "outputs": [
        {
          "output_type": "execute_result",
          "data": {
            "text/plain": [
              "{'boxes': [<matplotlib.lines.Line2D at 0x7f74586f0dd0>],\n",
              " 'caps': [<matplotlib.lines.Line2D at 0x7f74587c1bd0>,\n",
              "  <matplotlib.lines.Line2D at 0x7f7458776e50>],\n",
              " 'fliers': [<matplotlib.lines.Line2D at 0x7f745871f5d0>],\n",
              " 'means': [],\n",
              " 'medians': [<matplotlib.lines.Line2D at 0x7f745873ced0>],\n",
              " 'whiskers': [<matplotlib.lines.Line2D at 0x7f74586d6a10>,\n",
              "  <matplotlib.lines.Line2D at 0x7f74586d64d0>]}"
            ]
          },
          "metadata": {},
          "execution_count": 56
        },
        {
          "output_type": "display_data",
          "data": {
            "image/png": "[encoded data removed]",
            "text/plain": [
              "<Figure size 432x288 with 1 Axes>"
            ]
          },
          "metadata": {
            "needs_background": "light"
          }
        }
      ]
    },
    {
      "cell_type": "code",
      "source": [
        "plt.xlabel(\"BloodPressure\")\n",
        "plt.boxplot(dbdf[\"BloodPressure\"], vert=False)"
      ],
      "metadata": {
        "colab": {
          "base_uri": "https://localhost:8080/",
          "height": 418
        },
        "id": "0jiHcqMsP6uG",
        "outputId": "4f88d2c7-16f8-4674-c526-dc69a97e1fa4"
      },
      "execution_count": null,
      "outputs": [
        {
          "output_type": "execute_result",
          "data": {
            "text/plain": [
              "{'boxes': [<matplotlib.lines.Line2D at 0x7f74585e5a10>],\n",
              " 'caps': [<matplotlib.lines.Line2D at 0x7f7458593bd0>,\n",
              "  <matplotlib.lines.Line2D at 0x7f7458599150>],\n",
              " 'fliers': [<matplotlib.lines.Line2D at 0x7f7458599c10>],\n",
              " 'means': [],\n",
              " 'medians': [<matplotlib.lines.Line2D at 0x7f7458599690>],\n",
              " 'whiskers': [<matplotlib.lines.Line2D at 0x7f7458593150>,\n",
              "  <matplotlib.lines.Line2D at 0x7f7458593690>]}"
            ]
          },
          "metadata": {},
          "execution_count": 58
        },
        {
          "output_type": "display_data",
          "data": {
            "image/png": "[encoded data removed]",
            "text/plain": [
              "<Figure size 432x288 with 1 Axes>"
            ]
          },
          "metadata": {
            "needs_background": "light"
          }
        }
      ]
    },
    {
      "cell_type": "code",
      "source": [
        "plt.xlabel(\"Insulin\")\n",
        "plt.boxplot(dbdf[\"Insulin\"], vert=False)"
      ],
      "metadata": {
        "colab": {
          "base_uri": "https://localhost:8080/",
          "height": 418
        },
        "id": "d0pMHlOJQJG-",
        "outputId": "88ff641c-86ce-4554-8849-c87e64afaf6e"
      },
      "execution_count": null,
      "outputs": [
        {
          "output_type": "execute_result",
          "data": {
            "text/plain": [
              "{'boxes': [<matplotlib.lines.Line2D at 0x7f745854f850>],\n",
              " 'caps': [<matplotlib.lines.Line2D at 0x7f7458587950>,\n",
              "  <matplotlib.lines.Line2D at 0x7f7458587e90>],\n",
              " 'fliers': [<matplotlib.lines.Line2D at 0x7f745850f990>],\n",
              " 'means': [],\n",
              " 'medians': [<matplotlib.lines.Line2D at 0x7f745850f410>],\n",
              " 'whiskers': [<matplotlib.lines.Line2D at 0x7f7458581e90>,\n",
              "  <matplotlib.lines.Line2D at 0x7f7458587410>]}"
            ]
          },
          "metadata": {},
          "execution_count": 59
        },
        {
          "output_type": "display_data",
          "data": {
            "image/png": "[encoded data removed]",
            "text/plain": [
              "<Figure size 432x288 with 1 Axes>"
            ]
          },
          "metadata": {
            "needs_background": "light"
          }
        }
      ]
    },
    {
      "cell_type": "code",
      "source": [
        "inputdata = dbdf.drop(\"Outcome\", axis = 1)\n",
        "outcomes = dbdf[\"Outcome\"]"
      ],
      "metadata": {
        "id": "y5EIr0KdQba8"
      },
      "execution_count": null,
      "outputs": []
    },
    {
      "cell_type": "code",
      "source": [
        "inputdata_train, inputdata_test, outcomes_train, outcomes_test = train_test_split(inputdata, outcomes, test_size=0.25, random_state=0)"
      ],
      "metadata": {
        "id": "Oq8CAnuOSFZI"
      },
      "execution_count": null,
      "outputs": []
    },
    {
      "cell_type": "code",
      "source": [
        "inputdata_train, inputdata_test, outcomes_train, outcomes_test"
      ],
      "metadata": {
        "colab": {
          "base_uri": "https://localhost:8080/"
        },
        "id": "DIFUNQbWSoYF",
        "outputId": "8e4f4b0a-c295-403e-e14c-66ffa26a0b0e"
      },
      "execution_count": null,
      "outputs": [
        {
          "output_type": "execute_result",
          "data": {
            "text/plain": [
              "(     Pregnancies  Glucose  BloodPressure  SkinThickness  Insulin   BMI  \\\n",
              " 762            9       89             62              0        0  22.5   \n",
              " 127            1      118             58             36       94  33.3   \n",
              " 564            0       91             80              0        0  32.4   \n",
              " 375           12      140             82             43      325  39.2   \n",
              " 663            9      145             80             46      130  37.9   \n",
              " ..           ...      ...            ...            ...      ...   ...   \n",
              " 763           10      101             76             48      180  32.9   \n",
              " 192            7      159             66              0        0  30.4   \n",
              " 629            4       94             65             22        0  24.7   \n",
              " 559           11       85             74              0        0  30.1   \n",
              " 684            5      136             82              0        0   0.0   \n",
              " \n",
              "      DiabetesPedigreeFunction  Age  \n",
              " 762                     0.142   33  \n",
              " 127                     0.261   23  \n",
              " 564                     0.601   27  \n",
              " 375                     0.528   58  \n",
              " 663                     0.637   40  \n",
              " ..                        ...  ...  \n",
              " 763                     0.171   63  \n",
              " 192                     0.383   36  \n",
              " 629                     0.148   21  \n",
              " 559                     0.300   35  \n",
              " 684                     0.640   69  \n",
              " \n",
              " [576 rows x 8 columns],\n",
              "      Pregnancies  Glucose  BloodPressure  SkinThickness  Insulin   BMI  \\\n",
              " 661            1      199             76             43        0  42.9   \n",
              " 122            2      107             74             30      100  33.6   \n",
              " 113            4       76             62              0        0  34.0   \n",
              " 14             5      166             72             19      175  25.8   \n",
              " 529            0      111             65              0        0  24.6   \n",
              " ..           ...      ...            ...            ...      ...   ...   \n",
              " 366            6      124             72              0        0  27.6   \n",
              " 301            2      144             58             33      135  31.6   \n",
              " 382            1      109             60              8      182  25.4   \n",
              " 140            3      128             78              0        0  21.1   \n",
              " 463            5       88             78             30        0  27.6   \n",
              " \n",
              "      DiabetesPedigreeFunction  Age  \n",
              " 661                     1.394   22  \n",
              " 122                     0.404   23  \n",
              " 113                     0.391   25  \n",
              " 14                      0.587   51  \n",
              " 529                     0.660   31  \n",
              " ..                        ...  ...  \n",
              " 366                     0.368   29  \n",
              " 301                     0.422   25  \n",
              " 382                     0.947   21  \n",
              " 140                     0.268   55  \n",
              " 463                     0.258   37  \n",
              " \n",
              " [192 rows x 8 columns],\n",
              " 762    0\n",
              " 127    0\n",
              " 564    0\n",
              " 375    1\n",
              " 663    1\n",
              "       ..\n",
              " 763    0\n",
              " 192    1\n",
              " 629    0\n",
              " 559    0\n",
              " 684    0\n",
              " Name: Outcome, Length: 576, dtype: int64,\n",
              " 661    1\n",
              " 122    0\n",
              " 113    0\n",
              " 14     1\n",
              " 529    0\n",
              "       ..\n",
              " 366    1\n",
              " 301    1\n",
              " 382    0\n",
              " 140    0\n",
              " 463    0\n",
              " Name: Outcome, Length: 192, dtype: int64)"
            ]
          },
          "metadata": {},
          "execution_count": 62
        }
      ]
    },
    {
      "cell_type": "code",
      "source": [
        "std_scalar = StandardScaler()"
      ],
      "metadata": {
        "id": "BgeGVfIYSrF1"
      },
      "execution_count": null,
      "outputs": []
    },
    {
      "cell_type": "code",
      "source": [
        "inputdata_train = std.fit_transform(inputdata_train)\n",
        "inputdata_test = std.transform(inputdata_test)"
      ],
      "metadata": {
        "id": "3fACNSWQS2MM"
      },
      "execution_count": null,
      "outputs": []
    },
    {
      "cell_type": "code",
      "source": [
        "diabetes_model = LogisticRegression()"
      ],
      "metadata": {
        "id": "7sBaUCeiTMgk"
      },
      "execution_count": null,
      "outputs": []
    },
    {
      "cell_type": "code",
      "source": [
        "diabetes_model.fit(inputdata_train, outcomes_train)"
      ],
      "metadata": {
        "colab": {
          "base_uri": "https://localhost:8080/"
        },
        "id": "c9Ti3Gw-TXRj",
        "outputId": "833f5f60-dda1-47e1-c7fa-86ce5d647214"
      },
      "execution_count": null,
      "outputs": [
        {
          "output_type": "execute_result",
          "data": {
            "text/plain": [
              "LogisticRegression()"
            ]
          },
          "metadata": {},
          "execution_count": 66
        }
      ]
    },
    {
      "cell_type": "code",
      "source": [
        "db_pred = diabetes_model.predict(inputdata_test)\n",
        "db_score = accuracy_score(outcomes_test, db_pred)\n",
        "print(db_score)"
      ],
      "metadata": {
        "colab": {
          "base_uri": "https://localhost:8080/"
        },
        "id": "eU5TrC7vTodS",
        "outputId": "6fb5fffa-1f18-45fd-8603-dbe432eb465c"
      },
      "execution_count": null,
      "outputs": [
        {
          "output_type": "stream",
          "name": "stdout",
          "text": [
            "0.8020833333333334\n"
          ]
        }
      ]
    },
    {
      "cell_type": "code",
      "source": [
        ""
      ],
      "metadata": {
        "id": "16eA8FLRT-hJ"
      },
      "execution_count": null,
      "outputs": []
    }
  ]
}