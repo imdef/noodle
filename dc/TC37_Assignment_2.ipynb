{
  "nbformat": 4,
  "nbformat_minor": 0,
  "metadata": {
    "colab": {
      "name": "TC37 - Assignment 2",
      "provenance": []
    },
    "kernelspec": {
      "name": "python3",
      "display_name": "Python 3"
    },
    "language_info": {
      "name": "python"
    }
  },
  "cells": [
    {
      "cell_type": "markdown",
      "source": [
        "### Data Wrangling"
      ],
      "metadata": {
        "id": "dGG16AeUpR_5"
      }
    },
    {
      "cell_type": "markdown",
      "source": [
        "Q. Create an “Academic performance” dataset of students and perform the following operations using Python.\n",
        "1. Scan all variables for missing values and inconsistencies. If there are missing values and/or inconsistencies, use any of the suitable techniques to deal with them.\n",
        "2. Scan all numeric variables for outliers. If there are outliers, use any of the suitable techniques to deal with them.\n",
        "3. Apply data transformations on at least one of the variables. The purpose of this transformation should be one of the following reasons: to change the scale for better understanding of the variable, to convert a non-linear relation into a linear one, or to decrease the skewness and convert the distribution into a normal distribution.\n",
        "Reason and document your approach properly."
      ],
      "metadata": {
        "id": "iQosremxjAqD"
      }
    },
    {
      "cell_type": "code",
      "execution_count": null,
      "metadata": {
        "id": "_oFBnuG4isz_"
      },
      "outputs": [],
      "source": [
        "import pandas as pd"
      ]
    },
    {
      "cell_type": "code",
      "source": [
        "df = pd.read_csv(\"xAPI-Edu-Data.csv\")"
      ],
      "metadata": {
        "id": "YN63pYthkjoB"
      },
      "execution_count": null,
      "outputs": []
    },
    {
      "cell_type": "markdown",
      "source": [
        "Using the `head()` method to see the format of the data."
      ],
      "metadata": {
        "id": "L4hGdyviy53l"
      }
    },
    {
      "cell_type": "code",
      "source": [
        "df.head()"
      ],
      "metadata": {
        "colab": {
          "base_uri": "https://localhost:8080/",
          "height": 270
        },
        "id": "FxfaC9Y3kpD8",
        "outputId": "e611767d-fd27-4d06-df7b-8e590a58b9f1"
      },
      "execution_count": null,
      "outputs": [
        {
          "output_type": "execute_result",
          "data": {
            "text/html": [
              "\n",
              "  <div id=\"df-9d0c36c3-09e9-4557-ac9f-6c36fac1522e\">\n",
              "    <div class=\"colab-df-container\">\n",
              "      <div>\n",
              "<style scoped>\n",
              "    .dataframe tbody tr th:only-of-type {\n",
              "        vertical-align: middle;\n",
              "    }\n",
              "\n",
              "    .dataframe tbody tr th {\n",
              "        vertical-align: top;\n",
              "    }\n",
              "\n",
              "    .dataframe thead th {\n",
              "        text-align: right;\n",
              "    }\n",
              "</style>\n",
              "<table border=\"1\" class=\"dataframe\">\n",
              "  <thead>\n",
              "    <tr style=\"text-align: right;\">\n",
              "      <th></th>\n",
              "      <th>gender</th>\n",
              "      <th>NationalITy</th>\n",
              "      <th>PlaceofBirth</th>\n",
              "      <th>StageID</th>\n",
              "      <th>GradeID</th>\n",
              "      <th>SectionID</th>\n",
              "      <th>Topic</th>\n",
              "      <th>Semester</th>\n",
              "      <th>Relation</th>\n",
              "      <th>raisedhands</th>\n",
              "      <th>VisITedResources</th>\n",
              "      <th>AnnouncementsView</th>\n",
              "      <th>Discussion</th>\n",
              "      <th>ParentAnsweringSurvey</th>\n",
              "      <th>ParentschoolSatisfaction</th>\n",
              "      <th>StudentAbsenceDays</th>\n",
              "      <th>Class</th>\n",
              "    </tr>\n",
              "  </thead>\n",
              "  <tbody>\n",
              "    <tr>\n",
              "      <th>0</th>\n",
              "      <td>M</td>\n",
              "      <td>KW</td>\n",
              "      <td>KuwaIT</td>\n",
              "      <td>lowerlevel</td>\n",
              "      <td>G-04</td>\n",
              "      <td>A</td>\n",
              "      <td>IT</td>\n",
              "      <td>F</td>\n",
              "      <td>Father</td>\n",
              "      <td>15.0</td>\n",
              "      <td>16.0</td>\n",
              "      <td>2.0</td>\n",
              "      <td>20</td>\n",
              "      <td>Yes</td>\n",
              "      <td>Good</td>\n",
              "      <td>Under-7</td>\n",
              "      <td>M</td>\n",
              "    </tr>\n",
              "    <tr>\n",
              "      <th>1</th>\n",
              "      <td>M</td>\n",
              "      <td>KW</td>\n",
              "      <td>KuwaIT</td>\n",
              "      <td>lowerlevel</td>\n",
              "      <td>G-04</td>\n",
              "      <td>A</td>\n",
              "      <td>IT</td>\n",
              "      <td>F</td>\n",
              "      <td>Father</td>\n",
              "      <td>20.0</td>\n",
              "      <td>20.0</td>\n",
              "      <td>3.0</td>\n",
              "      <td>25</td>\n",
              "      <td>Yes</td>\n",
              "      <td>Good</td>\n",
              "      <td>Under-7</td>\n",
              "      <td>M</td>\n",
              "    </tr>\n",
              "    <tr>\n",
              "      <th>2</th>\n",
              "      <td>M</td>\n",
              "      <td>KW</td>\n",
              "      <td>KuwaIT</td>\n",
              "      <td>lowerlevel</td>\n",
              "      <td>G-04</td>\n",
              "      <td>A</td>\n",
              "      <td>IT</td>\n",
              "      <td>F</td>\n",
              "      <td>Father</td>\n",
              "      <td>10.0</td>\n",
              "      <td>7.0</td>\n",
              "      <td>0.0</td>\n",
              "      <td>30</td>\n",
              "      <td>No</td>\n",
              "      <td>Bad</td>\n",
              "      <td>Above-7</td>\n",
              "      <td>L</td>\n",
              "    </tr>\n",
              "    <tr>\n",
              "      <th>3</th>\n",
              "      <td>M</td>\n",
              "      <td>KW</td>\n",
              "      <td>KuwaIT</td>\n",
              "      <td>lowerlevel</td>\n",
              "      <td>G-04</td>\n",
              "      <td>A</td>\n",
              "      <td>IT</td>\n",
              "      <td>F</td>\n",
              "      <td>Father</td>\n",
              "      <td>30.0</td>\n",
              "      <td>NaN</td>\n",
              "      <td>5.0</td>\n",
              "      <td>35</td>\n",
              "      <td>No</td>\n",
              "      <td>Bad</td>\n",
              "      <td>Above-7</td>\n",
              "      <td>L</td>\n",
              "    </tr>\n",
              "    <tr>\n",
              "      <th>4</th>\n",
              "      <td>M</td>\n",
              "      <td>KW</td>\n",
              "      <td>KuwaIT</td>\n",
              "      <td>lowerlevel</td>\n",
              "      <td>G-04</td>\n",
              "      <td>A</td>\n",
              "      <td>IT</td>\n",
              "      <td>F</td>\n",
              "      <td>Father</td>\n",
              "      <td>NaN</td>\n",
              "      <td>50.0</td>\n",
              "      <td>12.0</td>\n",
              "      <td>50</td>\n",
              "      <td>No</td>\n",
              "      <td>Bad</td>\n",
              "      <td>Above-7</td>\n",
              "      <td>M</td>\n",
              "    </tr>\n",
              "  </tbody>\n",
              "</table>\n",
              "</div>\n",
              "      <button class=\"colab-df-convert\" onclick=\"convertToInteractive('df-9d0c36c3-09e9-4557-ac9f-6c36fac1522e')\"\n",
              "              title=\"Convert this dataframe to an interactive table.\"\n",
              "              style=\"display:none;\">\n",
              "        \n",
              "  <svg xmlns=\"http://www.w3.org/2000/svg\" height=\"24px\"viewBox=\"0 0 24 24\"\n",
              "       width=\"24px\">\n",
              "    <path d=\"M0 0h24v24H0V0z\" fill=\"none\"/>\n",
              "    <path d=\"M18.56 5.44l.94 2.06.94-2.06 2.06-.94-2.06-.94-.94-2.06-.94 2.06-2.06.94zm-11 1L8.5 8.5l.94-2.06 2.06-.94-2.06-.94L8.5 2.5l-.94 2.06-2.06.94zm10 10l.94 2.06.94-2.06 2.06-.94-2.06-.94-.94-2.06-.94 2.06-2.06.94z\"/><path d=\"M17.41 7.96l-1.37-1.37c-.4-.4-.92-.59-1.43-.59-.52 0-1.04.2-1.43.59L10.3 9.45l-7.72 7.72c-.78.78-.78 2.05 0 2.83L4 21.41c.39.39.9.59 1.41.59.51 0 1.02-.2 1.41-.59l7.78-7.78 2.81-2.81c.8-.78.8-2.07 0-2.86zM5.41 20L4 18.59l7.72-7.72 1.47 1.35L5.41 20z\"/>\n",
              "  </svg>\n",
              "      </button>\n",
              "      \n",
              "  <style>\n",
              "    .colab-df-container {\n",
              "      display:flex;\n",
              "      flex-wrap:wrap;\n",
              "      gap: 12px;\n",
              "    }\n",
              "\n",
              "    .colab-df-convert {\n",
              "      background-color: #E8F0FE;\n",
              "      border: none;\n",
              "      border-radius: 50%;\n",
              "      cursor: pointer;\n",
              "      display: none;\n",
              "      fill: #1967D2;\n",
              "      height: 32px;\n",
              "      padding: 0 0 0 0;\n",
              "      width: 32px;\n",
              "    }\n",
              "\n",
              "    .colab-df-convert:hover {\n",
              "      background-color: #E2EBFA;\n",
              "      box-shadow: 0px 1px 2px rgba(60, 64, 67, 0.3), 0px 1px 3px 1px rgba(60, 64, 67, 0.15);\n",
              "      fill: #174EA6;\n",
              "    }\n",
              "\n",
              "    [theme=dark] .colab-df-convert {\n",
              "      background-color: #3B4455;\n",
              "      fill: #D2E3FC;\n",
              "    }\n",
              "\n",
              "    [theme=dark] .colab-df-convert:hover {\n",
              "      background-color: #434B5C;\n",
              "      box-shadow: 0px 1px 3px 1px rgba(0, 0, 0, 0.15);\n",
              "      filter: drop-shadow(0px 1px 2px rgba(0, 0, 0, 0.3));\n",
              "      fill: #FFFFFF;\n",
              "    }\n",
              "  </style>\n",
              "\n",
              "      <script>\n",
              "        const buttonEl =\n",
              "          document.querySelector('#df-9d0c36c3-09e9-4557-ac9f-6c36fac1522e button.colab-df-convert');\n",
              "        buttonEl.style.display =\n",
              "          google.colab.kernel.accessAllowed ? 'block' : 'none';\n",
              "\n",
              "        async function convertToInteractive(key) {\n",
              "          const element = document.querySelector('#df-9d0c36c3-09e9-4557-ac9f-6c36fac1522e');\n",
              "          const dataTable =\n",
              "            await google.colab.kernel.invokeFunction('convertToInteractive',\n",
              "                                                     [key], {});\n",
              "          if (!dataTable) return;\n",
              "\n",
              "          const docLinkHtml = 'Like what you see? Visit the ' +\n",
              "            '<a target=\"_blank\" href=https://colab.research.google.com/notebooks/data_table.ipynb>data table notebook</a>'\n",
              "            + ' to learn more about interactive tables.';\n",
              "          element.innerHTML = '';\n",
              "          dataTable['output_type'] = 'display_data';\n",
              "          await google.colab.output.renderOutput(dataTable, element);\n",
              "          const docLink = document.createElement('div');\n",
              "          docLink.innerHTML = docLinkHtml;\n",
              "          element.appendChild(docLink);\n",
              "        }\n",
              "      </script>\n",
              "    </div>\n",
              "  </div>\n",
              "  "
            ],
            "text/plain": [
              "  gender NationalITy  ... StudentAbsenceDays Class\n",
              "0      M          KW  ...            Under-7     M\n",
              "1      M          KW  ...            Under-7     M\n",
              "2      M          KW  ...            Above-7     L\n",
              "3      M          KW  ...            Above-7     L\n",
              "4      M          KW  ...            Above-7     M\n",
              "\n",
              "[5 rows x 17 columns]"
            ]
          },
          "metadata": {},
          "execution_count": 67
        }
      ]
    },
    {
      "cell_type": "markdown",
      "source": [
        ""
      ],
      "metadata": {
        "id": "VHEgqoi_0o20"
      }
    },
    {
      "cell_type": "code",
      "source": [
        "df.dtypes"
      ],
      "metadata": {
        "colab": {
          "base_uri": "https://localhost:8080/"
        },
        "id": "CjwjRUmelESt",
        "outputId": "c0f74034-d86f-4d17-f903-9ea302299733"
      },
      "execution_count": null,
      "outputs": [
        {
          "output_type": "execute_result",
          "data": {
            "text/plain": [
              "gender                       object\n",
              "NationalITy                  object\n",
              "PlaceofBirth                 object\n",
              "StageID                      object\n",
              "GradeID                      object\n",
              "SectionID                    object\n",
              "Topic                        object\n",
              "Semester                     object\n",
              "Relation                     object\n",
              "raisedhands                 float64\n",
              "VisITedResources            float64\n",
              "AnnouncementsView           float64\n",
              "Discussion                    int64\n",
              "ParentAnsweringSurvey        object\n",
              "ParentschoolSatisfaction     object\n",
              "StudentAbsenceDays           object\n",
              "Class                        object\n",
              "dtype: object"
            ]
          },
          "metadata": {},
          "execution_count": 68
        }
      ]
    },
    {
      "cell_type": "code",
      "source": [
        "df.shape"
      ],
      "metadata": {
        "colab": {
          "base_uri": "https://localhost:8080/"
        },
        "id": "xM0BvrkTlW74",
        "outputId": "9f822d99-e059-4249-c0e4-10220d44b337"
      },
      "execution_count": null,
      "outputs": [
        {
          "output_type": "execute_result",
          "data": {
            "text/plain": [
              "(480, 17)"
            ]
          },
          "metadata": {},
          "execution_count": 69
        }
      ]
    },
    {
      "cell_type": "code",
      "source": [
        "df.describe()"
      ],
      "metadata": {
        "colab": {
          "base_uri": "https://localhost:8080/",
          "height": 300
        },
        "id": "kGgSj7QplmQU",
        "outputId": "cec73a44-2b2f-46fd-d277-253d57938fde"
      },
      "execution_count": null,
      "outputs": [
        {
          "output_type": "execute_result",
          "data": {
            "text/html": [
              "\n",
              "  <div id=\"df-6a7a8806-8bf9-48b6-9eb4-b137333a284d\">\n",
              "    <div class=\"colab-df-container\">\n",
              "      <div>\n",
              "<style scoped>\n",
              "    .dataframe tbody tr th:only-of-type {\n",
              "        vertical-align: middle;\n",
              "    }\n",
              "\n",
              "    .dataframe tbody tr th {\n",
              "        vertical-align: top;\n",
              "    }\n",
              "\n",
              "    .dataframe thead th {\n",
              "        text-align: right;\n",
              "    }\n",
              "</style>\n",
              "<table border=\"1\" class=\"dataframe\">\n",
              "  <thead>\n",
              "    <tr style=\"text-align: right;\">\n",
              "      <th></th>\n",
              "      <th>raisedhands</th>\n",
              "      <th>VisITedResources</th>\n",
              "      <th>AnnouncementsView</th>\n",
              "      <th>Discussion</th>\n",
              "    </tr>\n",
              "  </thead>\n",
              "  <tbody>\n",
              "    <tr>\n",
              "      <th>count</th>\n",
              "      <td>460.000000</td>\n",
              "      <td>476.000000</td>\n",
              "      <td>469.000000</td>\n",
              "      <td>480.000000</td>\n",
              "    </tr>\n",
              "    <tr>\n",
              "      <th>mean</th>\n",
              "      <td>46.708696</td>\n",
              "      <td>54.701681</td>\n",
              "      <td>37.897655</td>\n",
              "      <td>43.283333</td>\n",
              "    </tr>\n",
              "    <tr>\n",
              "      <th>std</th>\n",
              "      <td>30.919425</td>\n",
              "      <td>33.111157</td>\n",
              "      <td>26.673520</td>\n",
              "      <td>27.637735</td>\n",
              "    </tr>\n",
              "    <tr>\n",
              "      <th>min</th>\n",
              "      <td>0.000000</td>\n",
              "      <td>0.000000</td>\n",
              "      <td>0.000000</td>\n",
              "      <td>1.000000</td>\n",
              "    </tr>\n",
              "    <tr>\n",
              "      <th>25%</th>\n",
              "      <td>15.000000</td>\n",
              "      <td>20.000000</td>\n",
              "      <td>14.000000</td>\n",
              "      <td>20.000000</td>\n",
              "    </tr>\n",
              "    <tr>\n",
              "      <th>50%</th>\n",
              "      <td>50.000000</td>\n",
              "      <td>65.000000</td>\n",
              "      <td>33.000000</td>\n",
              "      <td>39.000000</td>\n",
              "    </tr>\n",
              "    <tr>\n",
              "      <th>75%</th>\n",
              "      <td>75.000000</td>\n",
              "      <td>84.000000</td>\n",
              "      <td>58.000000</td>\n",
              "      <td>70.000000</td>\n",
              "    </tr>\n",
              "    <tr>\n",
              "      <th>max</th>\n",
              "      <td>100.000000</td>\n",
              "      <td>99.000000</td>\n",
              "      <td>98.000000</td>\n",
              "      <td>99.000000</td>\n",
              "    </tr>\n",
              "  </tbody>\n",
              "</table>\n",
              "</div>\n",
              "      <button class=\"colab-df-convert\" onclick=\"convertToInteractive('df-6a7a8806-8bf9-48b6-9eb4-b137333a284d')\"\n",
              "              title=\"Convert this dataframe to an interactive table.\"\n",
              "              style=\"display:none;\">\n",
              "        \n",
              "  <svg xmlns=\"http://www.w3.org/2000/svg\" height=\"24px\"viewBox=\"0 0 24 24\"\n",
              "       width=\"24px\">\n",
              "    <path d=\"M0 0h24v24H0V0z\" fill=\"none\"/>\n",
              "    <path d=\"M18.56 5.44l.94 2.06.94-2.06 2.06-.94-2.06-.94-.94-2.06-.94 2.06-2.06.94zm-11 1L8.5 8.5l.94-2.06 2.06-.94-2.06-.94L8.5 2.5l-.94 2.06-2.06.94zm10 10l.94 2.06.94-2.06 2.06-.94-2.06-.94-.94-2.06-.94 2.06-2.06.94z\"/><path d=\"M17.41 7.96l-1.37-1.37c-.4-.4-.92-.59-1.43-.59-.52 0-1.04.2-1.43.59L10.3 9.45l-7.72 7.72c-.78.78-.78 2.05 0 2.83L4 21.41c.39.39.9.59 1.41.59.51 0 1.02-.2 1.41-.59l7.78-7.78 2.81-2.81c.8-.78.8-2.07 0-2.86zM5.41 20L4 18.59l7.72-7.72 1.47 1.35L5.41 20z\"/>\n",
              "  </svg>\n",
              "      </button>\n",
              "      \n",
              "  <style>\n",
              "    .colab-df-container {\n",
              "      display:flex;\n",
              "      flex-wrap:wrap;\n",
              "      gap: 12px;\n",
              "    }\n",
              "\n",
              "    .colab-df-convert {\n",
              "      background-color: #E8F0FE;\n",
              "      border: none;\n",
              "      border-radius: 50%;\n",
              "      cursor: pointer;\n",
              "      display: none;\n",
              "      fill: #1967D2;\n",
              "      height: 32px;\n",
              "      padding: 0 0 0 0;\n",
              "      width: 32px;\n",
              "    }\n",
              "\n",
              "    .colab-df-convert:hover {\n",
              "      background-color: #E2EBFA;\n",
              "      box-shadow: 0px 1px 2px rgba(60, 64, 67, 0.3), 0px 1px 3px 1px rgba(60, 64, 67, 0.15);\n",
              "      fill: #174EA6;\n",
              "    }\n",
              "\n",
              "    [theme=dark] .colab-df-convert {\n",
              "      background-color: #3B4455;\n",
              "      fill: #D2E3FC;\n",
              "    }\n",
              "\n",
              "    [theme=dark] .colab-df-convert:hover {\n",
              "      background-color: #434B5C;\n",
              "      box-shadow: 0px 1px 3px 1px rgba(0, 0, 0, 0.15);\n",
              "      filter: drop-shadow(0px 1px 2px rgba(0, 0, 0, 0.3));\n",
              "      fill: #FFFFFF;\n",
              "    }\n",
              "  </style>\n",
              "\n",
              "      <script>\n",
              "        const buttonEl =\n",
              "          document.querySelector('#df-6a7a8806-8bf9-48b6-9eb4-b137333a284d button.colab-df-convert');\n",
              "        buttonEl.style.display =\n",
              "          google.colab.kernel.accessAllowed ? 'block' : 'none';\n",
              "\n",
              "        async function convertToInteractive(key) {\n",
              "          const element = document.querySelector('#df-6a7a8806-8bf9-48b6-9eb4-b137333a284d');\n",
              "          const dataTable =\n",
              "            await google.colab.kernel.invokeFunction('convertToInteractive',\n",
              "                                                     [key], {});\n",
              "          if (!dataTable) return;\n",
              "\n",
              "          const docLinkHtml = 'Like what you see? Visit the ' +\n",
              "            '<a target=\"_blank\" href=https://colab.research.google.com/notebooks/data_table.ipynb>data table notebook</a>'\n",
              "            + ' to learn more about interactive tables.';\n",
              "          element.innerHTML = '';\n",
              "          dataTable['output_type'] = 'display_data';\n",
              "          await google.colab.output.renderOutput(dataTable, element);\n",
              "          const docLink = document.createElement('div');\n",
              "          docLink.innerHTML = docLinkHtml;\n",
              "          element.appendChild(docLink);\n",
              "        }\n",
              "      </script>\n",
              "    </div>\n",
              "  </div>\n",
              "  "
            ],
            "text/plain": [
              "       raisedhands  VisITedResources  AnnouncementsView  Discussion\n",
              "count   460.000000        476.000000         469.000000  480.000000\n",
              "mean     46.708696         54.701681          37.897655   43.283333\n",
              "std      30.919425         33.111157          26.673520   27.637735\n",
              "min       0.000000          0.000000           0.000000    1.000000\n",
              "25%      15.000000         20.000000          14.000000   20.000000\n",
              "50%      50.000000         65.000000          33.000000   39.000000\n",
              "75%      75.000000         84.000000          58.000000   70.000000\n",
              "max     100.000000         99.000000          98.000000   99.000000"
            ]
          },
          "metadata": {},
          "execution_count": 70
        }
      ]
    },
    {
      "cell_type": "markdown",
      "source": [
        "Checking for missing values in the dataset."
      ],
      "metadata": {
        "id": "lUdXgjJr0tYO"
      }
    },
    {
      "cell_type": "code",
      "source": [
        "df.isnull().sum()"
      ],
      "metadata": {
        "colab": {
          "base_uri": "https://localhost:8080/"
        },
        "id": "xh8NiatEmNlP",
        "outputId": "00dcecbe-877b-4b5a-ae77-64b33143939d"
      },
      "execution_count": null,
      "outputs": [
        {
          "output_type": "execute_result",
          "data": {
            "text/plain": [
              "gender                       0\n",
              "NationalITy                  0\n",
              "PlaceofBirth                 0\n",
              "StageID                      0\n",
              "GradeID                      0\n",
              "SectionID                    0\n",
              "Topic                       10\n",
              "Semester                     0\n",
              "Relation                    15\n",
              "raisedhands                 20\n",
              "VisITedResources             4\n",
              "AnnouncementsView           11\n",
              "Discussion                   0\n",
              "ParentAnsweringSurvey        0\n",
              "ParentschoolSatisfaction     5\n",
              "StudentAbsenceDays           5\n",
              "Class                       13\n",
              "dtype: int64"
            ]
          },
          "metadata": {},
          "execution_count": 71
        }
      ]
    },
    {
      "cell_type": "markdown",
      "source": [
        "#### raisedhands, VisITedResources, AnnouncementsView are numerical data\n",
        "\n",
        "Imputation with mean"
      ],
      "metadata": {
        "id": "kBqdDt1toBcC"
      }
    },
    {
      "cell_type": "code",
      "source": [
        "df[\"raisedhands\"].fillna(df[\"raisedhands\"].mean(), inplace=True)"
      ],
      "metadata": {
        "id": "AdbO6XEinK_V"
      },
      "execution_count": null,
      "outputs": []
    },
    {
      "cell_type": "markdown",
      "source": [
        "Imputation with median"
      ],
      "metadata": {
        "id": "YC2Xi7xGp2BR"
      }
    },
    {
      "cell_type": "code",
      "source": [
        "df[\"VisITedResources\"].fillna(df[\"VisITedResources\"].median(), inplace=True)"
      ],
      "metadata": {
        "id": "X_55Amdpno4C"
      },
      "execution_count": null,
      "outputs": []
    },
    {
      "cell_type": "code",
      "source": [
        "df[\"AnnouncementsView\"].fillna(df[\"AnnouncementsView\"].median(), inplace=True)"
      ],
      "metadata": {
        "id": "42DiYtOXpzep"
      },
      "execution_count": null,
      "outputs": []
    },
    {
      "cell_type": "markdown",
      "source": [
        "### Topic, Relation, ParentschoolSatisfaction and StudentAbsenceDays are Categorical"
      ],
      "metadata": {
        "id": "GByzEi0vq7EH"
      }
    },
    {
      "cell_type": "markdown",
      "source": [
        "#### Replacing with Constant"
      ],
      "metadata": {
        "id": "2CZmK9bZtafy"
      }
    },
    {
      "cell_type": "markdown",
      "source": [
        "Getting the count of different values in StudentAbsenceDays Column"
      ],
      "metadata": {
        "id": "wW32I9Ax63HV"
      }
    },
    {
      "cell_type": "code",
      "source": [
        "df.StudentAbsenceDays.value_counts()"
      ],
      "metadata": {
        "colab": {
          "base_uri": "https://localhost:8080/"
        },
        "id": "zPtsvfw3uFZW",
        "outputId": "70c51058-b2c9-4a48-cb32-56f919569802"
      },
      "execution_count": null,
      "outputs": [
        {
          "output_type": "execute_result",
          "data": {
            "text/plain": [
              "Under-7    284\n",
              "Above-7    191\n",
              "Name: StudentAbsenceDays, dtype: int64"
            ]
          },
          "metadata": {},
          "execution_count": 75
        }
      ]
    },
    {
      "cell_type": "markdown",
      "source": [
        "Imputing the null values with a constant \"Under-7\" as it is the most frequent in the data"
      ],
      "metadata": {
        "id": "jeRdc1oK7DRP"
      }
    },
    {
      "cell_type": "code",
      "source": [
        "df[\"StudentAbsenceDays\"].fillna(\"Under-7\", inplace=True)"
      ],
      "metadata": {
        "id": "Aonnoxbbwb9y"
      },
      "execution_count": null,
      "outputs": []
    },
    {
      "cell_type": "code",
      "source": [
        "df[\"Relation\"].fillna(\"Father\", inplace=True)"
      ],
      "metadata": {
        "id": "023_IFrFzkHV"
      },
      "execution_count": null,
      "outputs": []
    },
    {
      "cell_type": "markdown",
      "source": [
        "#### Replace with most frequent (mode) using SimpleImputer\n",
        "for Topic and ParentschoolSatisfaction"
      ],
      "metadata": {
        "id": "FkRGWKA6ydXa"
      }
    },
    {
      "cell_type": "code",
      "source": [
        "from sklearn.impute import SimpleImputer\n",
        "imputer = SimpleImputer(strategy='most_frequent')\n",
        "imputer.fit_transform(df)"
      ],
      "metadata": {
        "colab": {
          "base_uri": "https://localhost:8080/"
        },
        "id": "1dWff-wsyVuX",
        "outputId": "e51ed98a-2593-4f0e-fe0b-72c57b9d4828"
      },
      "execution_count": null,
      "outputs": [
        {
          "output_type": "execute_result",
          "data": {
            "text/plain": [
              "array([['M', 'KW', 'KuwaIT', ..., 'Good', 'Under-7', 'M'],\n",
              "       ['M', 'KW', 'KuwaIT', ..., 'Good', 'Under-7', 'M'],\n",
              "       ['M', 'KW', 'KuwaIT', ..., 'Bad', 'Above-7', 'L'],\n",
              "       ...,\n",
              "       ['F', 'Jordan', 'Jordan', ..., 'Bad', 'Under-7', 'M'],\n",
              "       ['F', 'Jordan', 'Jordan', ..., 'Bad', 'Above-7', 'L'],\n",
              "       ['F', 'Jordan', 'Jordan', ..., 'Bad', 'Above-7', 'L']],\n",
              "      dtype=object)"
            ]
          },
          "metadata": {},
          "execution_count": 78
        }
      ]
    },
    {
      "cell_type": "code",
      "source": [
        "df = pd.DataFrame(df)"
      ],
      "metadata": {
        "id": "IV53q941y_HU"
      },
      "execution_count": null,
      "outputs": []
    },
    {
      "cell_type": "code",
      "source": [
        "df"
      ],
      "metadata": {
        "colab": {
          "base_uri": "https://localhost:8080/",
          "height": 488
        },
        "id": "RCLXbSkBzBJ7",
        "outputId": "15569579-3463-4a67-c329-a6a401de6833"
      },
      "execution_count": null,
      "outputs": [
        {
          "output_type": "execute_result",
          "data": {
            "text/html": [
              "\n",
              "  <div id=\"df-6898313d-6b2b-448a-b6bf-ea8d07886ea6\">\n",
              "    <div class=\"colab-df-container\">\n",
              "      <div>\n",
              "<style scoped>\n",
              "    .dataframe tbody tr th:only-of-type {\n",
              "        vertical-align: middle;\n",
              "    }\n",
              "\n",
              "    .dataframe tbody tr th {\n",
              "        vertical-align: top;\n",
              "    }\n",
              "\n",
              "    .dataframe thead th {\n",
              "        text-align: right;\n",
              "    }\n",
              "</style>\n",
              "<table border=\"1\" class=\"dataframe\">\n",
              "  <thead>\n",
              "    <tr style=\"text-align: right;\">\n",
              "      <th></th>\n",
              "      <th>gender</th>\n",
              "      <th>NationalITy</th>\n",
              "      <th>PlaceofBirth</th>\n",
              "      <th>StageID</th>\n",
              "      <th>GradeID</th>\n",
              "      <th>SectionID</th>\n",
              "      <th>Topic</th>\n",
              "      <th>Semester</th>\n",
              "      <th>Relation</th>\n",
              "      <th>raisedhands</th>\n",
              "      <th>VisITedResources</th>\n",
              "      <th>AnnouncementsView</th>\n",
              "      <th>Discussion</th>\n",
              "      <th>ParentAnsweringSurvey</th>\n",
              "      <th>ParentschoolSatisfaction</th>\n",
              "      <th>StudentAbsenceDays</th>\n",
              "      <th>Class</th>\n",
              "    </tr>\n",
              "  </thead>\n",
              "  <tbody>\n",
              "    <tr>\n",
              "      <th>0</th>\n",
              "      <td>M</td>\n",
              "      <td>KW</td>\n",
              "      <td>KuwaIT</td>\n",
              "      <td>lowerlevel</td>\n",
              "      <td>G-04</td>\n",
              "      <td>A</td>\n",
              "      <td>IT</td>\n",
              "      <td>F</td>\n",
              "      <td>Father</td>\n",
              "      <td>15.000000</td>\n",
              "      <td>16.0</td>\n",
              "      <td>2.0</td>\n",
              "      <td>20</td>\n",
              "      <td>Yes</td>\n",
              "      <td>Good</td>\n",
              "      <td>Under-7</td>\n",
              "      <td>M</td>\n",
              "    </tr>\n",
              "    <tr>\n",
              "      <th>1</th>\n",
              "      <td>M</td>\n",
              "      <td>KW</td>\n",
              "      <td>KuwaIT</td>\n",
              "      <td>lowerlevel</td>\n",
              "      <td>G-04</td>\n",
              "      <td>A</td>\n",
              "      <td>IT</td>\n",
              "      <td>F</td>\n",
              "      <td>Father</td>\n",
              "      <td>20.000000</td>\n",
              "      <td>20.0</td>\n",
              "      <td>3.0</td>\n",
              "      <td>25</td>\n",
              "      <td>Yes</td>\n",
              "      <td>Good</td>\n",
              "      <td>Under-7</td>\n",
              "      <td>M</td>\n",
              "    </tr>\n",
              "    <tr>\n",
              "      <th>2</th>\n",
              "      <td>M</td>\n",
              "      <td>KW</td>\n",
              "      <td>KuwaIT</td>\n",
              "      <td>lowerlevel</td>\n",
              "      <td>G-04</td>\n",
              "      <td>A</td>\n",
              "      <td>IT</td>\n",
              "      <td>F</td>\n",
              "      <td>Father</td>\n",
              "      <td>10.000000</td>\n",
              "      <td>7.0</td>\n",
              "      <td>0.0</td>\n",
              "      <td>30</td>\n",
              "      <td>No</td>\n",
              "      <td>Bad</td>\n",
              "      <td>Above-7</td>\n",
              "      <td>L</td>\n",
              "    </tr>\n",
              "    <tr>\n",
              "      <th>3</th>\n",
              "      <td>M</td>\n",
              "      <td>KW</td>\n",
              "      <td>KuwaIT</td>\n",
              "      <td>lowerlevel</td>\n",
              "      <td>G-04</td>\n",
              "      <td>A</td>\n",
              "      <td>IT</td>\n",
              "      <td>F</td>\n",
              "      <td>Father</td>\n",
              "      <td>30.000000</td>\n",
              "      <td>65.0</td>\n",
              "      <td>5.0</td>\n",
              "      <td>35</td>\n",
              "      <td>No</td>\n",
              "      <td>Bad</td>\n",
              "      <td>Above-7</td>\n",
              "      <td>L</td>\n",
              "    </tr>\n",
              "    <tr>\n",
              "      <th>4</th>\n",
              "      <td>M</td>\n",
              "      <td>KW</td>\n",
              "      <td>KuwaIT</td>\n",
              "      <td>lowerlevel</td>\n",
              "      <td>G-04</td>\n",
              "      <td>A</td>\n",
              "      <td>IT</td>\n",
              "      <td>F</td>\n",
              "      <td>Father</td>\n",
              "      <td>46.708696</td>\n",
              "      <td>50.0</td>\n",
              "      <td>12.0</td>\n",
              "      <td>50</td>\n",
              "      <td>No</td>\n",
              "      <td>Bad</td>\n",
              "      <td>Above-7</td>\n",
              "      <td>M</td>\n",
              "    </tr>\n",
              "    <tr>\n",
              "      <th>...</th>\n",
              "      <td>...</td>\n",
              "      <td>...</td>\n",
              "      <td>...</td>\n",
              "      <td>...</td>\n",
              "      <td>...</td>\n",
              "      <td>...</td>\n",
              "      <td>...</td>\n",
              "      <td>...</td>\n",
              "      <td>...</td>\n",
              "      <td>...</td>\n",
              "      <td>...</td>\n",
              "      <td>...</td>\n",
              "      <td>...</td>\n",
              "      <td>...</td>\n",
              "      <td>...</td>\n",
              "      <td>...</td>\n",
              "      <td>...</td>\n",
              "    </tr>\n",
              "    <tr>\n",
              "      <th>475</th>\n",
              "      <td>F</td>\n",
              "      <td>Jordan</td>\n",
              "      <td>Jordan</td>\n",
              "      <td>MiddleSchool</td>\n",
              "      <td>G-08</td>\n",
              "      <td>A</td>\n",
              "      <td>Chemistry</td>\n",
              "      <td>S</td>\n",
              "      <td>Father</td>\n",
              "      <td>5.000000</td>\n",
              "      <td>4.0</td>\n",
              "      <td>5.0</td>\n",
              "      <td>8</td>\n",
              "      <td>No</td>\n",
              "      <td>Bad</td>\n",
              "      <td>Above-7</td>\n",
              "      <td>L</td>\n",
              "    </tr>\n",
              "    <tr>\n",
              "      <th>476</th>\n",
              "      <td>F</td>\n",
              "      <td>Jordan</td>\n",
              "      <td>Jordan</td>\n",
              "      <td>MiddleSchool</td>\n",
              "      <td>G-08</td>\n",
              "      <td>A</td>\n",
              "      <td>Geology</td>\n",
              "      <td>F</td>\n",
              "      <td>Father</td>\n",
              "      <td>50.000000</td>\n",
              "      <td>77.0</td>\n",
              "      <td>14.0</td>\n",
              "      <td>28</td>\n",
              "      <td>No</td>\n",
              "      <td>Bad</td>\n",
              "      <td>Under-7</td>\n",
              "      <td>M</td>\n",
              "    </tr>\n",
              "    <tr>\n",
              "      <th>477</th>\n",
              "      <td>F</td>\n",
              "      <td>Jordan</td>\n",
              "      <td>Jordan</td>\n",
              "      <td>MiddleSchool</td>\n",
              "      <td>G-08</td>\n",
              "      <td>A</td>\n",
              "      <td>Geology</td>\n",
              "      <td>S</td>\n",
              "      <td>Father</td>\n",
              "      <td>55.000000</td>\n",
              "      <td>74.0</td>\n",
              "      <td>25.0</td>\n",
              "      <td>29</td>\n",
              "      <td>No</td>\n",
              "      <td>Bad</td>\n",
              "      <td>Under-7</td>\n",
              "      <td>M</td>\n",
              "    </tr>\n",
              "    <tr>\n",
              "      <th>478</th>\n",
              "      <td>F</td>\n",
              "      <td>Jordan</td>\n",
              "      <td>Jordan</td>\n",
              "      <td>MiddleSchool</td>\n",
              "      <td>G-08</td>\n",
              "      <td>A</td>\n",
              "      <td>History</td>\n",
              "      <td>F</td>\n",
              "      <td>Father</td>\n",
              "      <td>30.000000</td>\n",
              "      <td>17.0</td>\n",
              "      <td>14.0</td>\n",
              "      <td>57</td>\n",
              "      <td>No</td>\n",
              "      <td>Bad</td>\n",
              "      <td>Above-7</td>\n",
              "      <td>L</td>\n",
              "    </tr>\n",
              "    <tr>\n",
              "      <th>479</th>\n",
              "      <td>F</td>\n",
              "      <td>Jordan</td>\n",
              "      <td>Jordan</td>\n",
              "      <td>MiddleSchool</td>\n",
              "      <td>G-08</td>\n",
              "      <td>A</td>\n",
              "      <td>History</td>\n",
              "      <td>S</td>\n",
              "      <td>Father</td>\n",
              "      <td>35.000000</td>\n",
              "      <td>14.0</td>\n",
              "      <td>23.0</td>\n",
              "      <td>62</td>\n",
              "      <td>No</td>\n",
              "      <td>Bad</td>\n",
              "      <td>Above-7</td>\n",
              "      <td>L</td>\n",
              "    </tr>\n",
              "  </tbody>\n",
              "</table>\n",
              "<p>480 rows × 17 columns</p>\n",
              "</div>\n",
              "      <button class=\"colab-df-convert\" onclick=\"convertToInteractive('df-6898313d-6b2b-448a-b6bf-ea8d07886ea6')\"\n",
              "              title=\"Convert this dataframe to an interactive table.\"\n",
              "              style=\"display:none;\">\n",
              "        \n",
              "  <svg xmlns=\"http://www.w3.org/2000/svg\" height=\"24px\"viewBox=\"0 0 24 24\"\n",
              "       width=\"24px\">\n",
              "    <path d=\"M0 0h24v24H0V0z\" fill=\"none\"/>\n",
              "    <path d=\"M18.56 5.44l.94 2.06.94-2.06 2.06-.94-2.06-.94-.94-2.06-.94 2.06-2.06.94zm-11 1L8.5 8.5l.94-2.06 2.06-.94-2.06-.94L8.5 2.5l-.94 2.06-2.06.94zm10 10l.94 2.06.94-2.06 2.06-.94-2.06-.94-.94-2.06-.94 2.06-2.06.94z\"/><path d=\"M17.41 7.96l-1.37-1.37c-.4-.4-.92-.59-1.43-.59-.52 0-1.04.2-1.43.59L10.3 9.45l-7.72 7.72c-.78.78-.78 2.05 0 2.83L4 21.41c.39.39.9.59 1.41.59.51 0 1.02-.2 1.41-.59l7.78-7.78 2.81-2.81c.8-.78.8-2.07 0-2.86zM5.41 20L4 18.59l7.72-7.72 1.47 1.35L5.41 20z\"/>\n",
              "  </svg>\n",
              "      </button>\n",
              "      \n",
              "  <style>\n",
              "    .colab-df-container {\n",
              "      display:flex;\n",
              "      flex-wrap:wrap;\n",
              "      gap: 12px;\n",
              "    }\n",
              "\n",
              "    .colab-df-convert {\n",
              "      background-color: #E8F0FE;\n",
              "      border: none;\n",
              "      border-radius: 50%;\n",
              "      cursor: pointer;\n",
              "      display: none;\n",
              "      fill: #1967D2;\n",
              "      height: 32px;\n",
              "      padding: 0 0 0 0;\n",
              "      width: 32px;\n",
              "    }\n",
              "\n",
              "    .colab-df-convert:hover {\n",
              "      background-color: #E2EBFA;\n",
              "      box-shadow: 0px 1px 2px rgba(60, 64, 67, 0.3), 0px 1px 3px 1px rgba(60, 64, 67, 0.15);\n",
              "      fill: #174EA6;\n",
              "    }\n",
              "\n",
              "    [theme=dark] .colab-df-convert {\n",
              "      background-color: #3B4455;\n",
              "      fill: #D2E3FC;\n",
              "    }\n",
              "\n",
              "    [theme=dark] .colab-df-convert:hover {\n",
              "      background-color: #434B5C;\n",
              "      box-shadow: 0px 1px 3px 1px rgba(0, 0, 0, 0.15);\n",
              "      filter: drop-shadow(0px 1px 2px rgba(0, 0, 0, 0.3));\n",
              "      fill: #FFFFFF;\n",
              "    }\n",
              "  </style>\n",
              "\n",
              "      <script>\n",
              "        const buttonEl =\n",
              "          document.querySelector('#df-6898313d-6b2b-448a-b6bf-ea8d07886ea6 button.colab-df-convert');\n",
              "        buttonEl.style.display =\n",
              "          google.colab.kernel.accessAllowed ? 'block' : 'none';\n",
              "\n",
              "        async function convertToInteractive(key) {\n",
              "          const element = document.querySelector('#df-6898313d-6b2b-448a-b6bf-ea8d07886ea6');\n",
              "          const dataTable =\n",
              "            await google.colab.kernel.invokeFunction('convertToInteractive',\n",
              "                                                     [key], {});\n",
              "          if (!dataTable) return;\n",
              "\n",
              "          const docLinkHtml = 'Like what you see? Visit the ' +\n",
              "            '<a target=\"_blank\" href=https://colab.research.google.com/notebooks/data_table.ipynb>data table notebook</a>'\n",
              "            + ' to learn more about interactive tables.';\n",
              "          element.innerHTML = '';\n",
              "          dataTable['output_type'] = 'display_data';\n",
              "          await google.colab.output.renderOutput(dataTable, element);\n",
              "          const docLink = document.createElement('div');\n",
              "          docLink.innerHTML = docLinkHtml;\n",
              "          element.appendChild(docLink);\n",
              "        }\n",
              "      </script>\n",
              "    </div>\n",
              "  </div>\n",
              "  "
            ],
            "text/plain": [
              "    gender NationalITy  ... StudentAbsenceDays Class\n",
              "0        M          KW  ...            Under-7     M\n",
              "1        M          KW  ...            Under-7     M\n",
              "2        M          KW  ...            Above-7     L\n",
              "3        M          KW  ...            Above-7     L\n",
              "4        M          KW  ...            Above-7     M\n",
              "..     ...         ...  ...                ...   ...\n",
              "475      F      Jordan  ...            Above-7     L\n",
              "476      F      Jordan  ...            Under-7     M\n",
              "477      F      Jordan  ...            Under-7     M\n",
              "478      F      Jordan  ...            Above-7     L\n",
              "479      F      Jordan  ...            Above-7     L\n",
              "\n",
              "[480 rows x 17 columns]"
            ]
          },
          "metadata": {},
          "execution_count": 80
        }
      ]
    },
    {
      "cell_type": "markdown",
      "source": [
        "### Outliers"
      ],
      "metadata": {
        "id": "qqW-n_OX0sZD"
      }
    },
    {
      "cell_type": "markdown",
      "source": [
        "Checking for Outliers using Box plots."
      ],
      "metadata": {
        "id": "muOvSs191TUs"
      }
    },
    {
      "cell_type": "code",
      "source": [
        "import matplotlib.pyplot as plt\n",
        "plt.boxplot(df[\"raisedhands\"], vert=False)\n",
        "plt.title(\"Detecting outliers using Boxplot\")\n",
        "plt.xlabel('raisedhands')"
      ],
      "metadata": {
        "colab": {
          "base_uri": "https://localhost:8080/",
          "height": 312
        },
        "id": "F7lxfWok0Vwr",
        "outputId": "11caee11-34e7-42f3-8802-46b3e77256f5"
      },
      "execution_count": null,
      "outputs": [
        {
          "output_type": "execute_result",
          "data": {
            "text/plain": [
              "Text(0.5, 0, 'raisedhands')"
            ]
          },
          "metadata": {},
          "execution_count": 82
        },
        {
          "output_type": "display_data",
          "data": {
            "image/png": "[encoded data removed]",
            "text/plain": [
              "<Figure size 432x288 with 1 Axes>"
            ]
          },
          "metadata": {
            "needs_background": "light"
          }
        }
      ]
    },
    {
      "cell_type": "code",
      "source": [
        "plt.boxplot(df[\"VisITedResources\"], vert=False)\n",
        "plt.xlabel('VisITedResources')"
      ],
      "metadata": {
        "colab": {
          "base_uri": "https://localhost:8080/",
          "height": 296
        },
        "id": "GcJcr3oa0_9S",
        "outputId": "d189f88a-da10-4354-aafd-7ca89f945b9f"
      },
      "execution_count": null,
      "outputs": [
        {
          "output_type": "execute_result",
          "data": {
            "text/plain": [
              "Text(0.5, 0, 'VisITedResources')"
            ]
          },
          "metadata": {},
          "execution_count": 83
        },
        {
          "output_type": "display_data",
          "data": {
            "image/png": "[encoded data removed]",
            "text/plain": [
              "<Figure size 432x288 with 1 Axes>"
            ]
          },
          "metadata": {
            "needs_background": "light"
          }
        }
      ]
    },
    {
      "cell_type": "code",
      "source": [
        "plt.boxplot(df[\"AnnouncementsView\"], vert=False)\n",
        "plt.xlabel('AnnouncementsView')"
      ],
      "metadata": {
        "colab": {
          "base_uri": "https://localhost:8080/",
          "height": 296
        },
        "id": "ZtYVwPZl1jOT",
        "outputId": "4920e0b2-a1e3-4c8f-d653-cab13eac00bc"
      },
      "execution_count": null,
      "outputs": [
        {
          "output_type": "execute_result",
          "data": {
            "text/plain": [
              "Text(0.5, 0, 'AnnouncementsView')"
            ]
          },
          "metadata": {},
          "execution_count": 84
        },
        {
          "output_type": "display_data",
          "data": {
            "image/png": "[encoded data removed]",
            "text/plain": [
              "<Figure size 432x288 with 1 Axes>"
            ]
          },
          "metadata": {
            "needs_background": "light"
          }
        }
      ]
    },
    {
      "cell_type": "code",
      "source": [
        "plt.boxplot(df[\"Discussion\"], vert=False)\n",
        "plt.xlabel('Discussion')"
      ],
      "metadata": {
        "colab": {
          "base_uri": "https://localhost:8080/",
          "height": 296
        },
        "id": "vLznEE9o1s9h",
        "outputId": "b4e658f5-6ce5-4c3c-aca6-ab7d30dafc35"
      },
      "execution_count": null,
      "outputs": [
        {
          "output_type": "execute_result",
          "data": {
            "text/plain": [
              "Text(0.5, 0, 'Discussion')"
            ]
          },
          "metadata": {},
          "execution_count": 85
        },
        {
          "output_type": "display_data",
          "data": {
            "image/png": "[encoded data removed]",
            "text/plain": [
              "<Figure size 432x288 with 1 Axes>"
            ]
          },
          "metadata": {
            "needs_background": "light"
          }
        }
      ]
    },
    {
      "cell_type": "markdown",
      "source": [
        "There seems to be no outliers in the data."
      ],
      "metadata": {
        "id": "CzyDCb7C18nh"
      }
    },
    {
      "cell_type": "markdown",
      "source": [
        "### Creating another dataframe for Outlier detection demonstration"
      ],
      "metadata": {
        "id": "-ZkTxsAD2_LI"
      }
    },
    {
      "cell_type": "markdown",
      "source": [
        "Using deep copy to copy the dataframe so the original dataframe is not modified when the duplicate is modified"
      ],
      "metadata": {
        "id": "V0j2SOHp1_jj"
      }
    },
    {
      "cell_type": "code",
      "source": [
        "outlier_df = df.copy(deep=True)"
      ],
      "metadata": {
        "id": "dHtsH7YC1xbB"
      },
      "execution_count": null,
      "outputs": []
    },
    {
      "cell_type": "code",
      "source": [
        "outlier_df"
      ],
      "metadata": {
        "colab": {
          "base_uri": "https://localhost:8080/",
          "height": 488
        },
        "id": "W_xUiDMg2gMx",
        "outputId": "34876788-a532-4a84-bc0d-4fbdea9b9812"
      },
      "execution_count": null,
      "outputs": [
        {
          "output_type": "execute_result",
          "data": {
            "text/html": [
              "\n",
              "  <div id=\"df-26f31049-05c1-4e8f-bf39-1691f2b2d1a2\">\n",
              "    <div class=\"colab-df-container\">\n",
              "      <div>\n",
              "<style scoped>\n",
              "    .dataframe tbody tr th:only-of-type {\n",
              "        vertical-align: middle;\n",
              "    }\n",
              "\n",
              "    .dataframe tbody tr th {\n",
              "        vertical-align: top;\n",
              "    }\n",
              "\n",
              "    .dataframe thead th {\n",
              "        text-align: right;\n",
              "    }\n",
              "</style>\n",
              "<table border=\"1\" class=\"dataframe\">\n",
              "  <thead>\n",
              "    <tr style=\"text-align: right;\">\n",
              "      <th></th>\n",
              "      <th>gender</th>\n",
              "      <th>NationalITy</th>\n",
              "      <th>PlaceofBirth</th>\n",
              "      <th>StageID</th>\n",
              "      <th>GradeID</th>\n",
              "      <th>SectionID</th>\n",
              "      <th>Topic</th>\n",
              "      <th>Semester</th>\n",
              "      <th>Relation</th>\n",
              "      <th>raisedhands</th>\n",
              "      <th>VisITedResources</th>\n",
              "      <th>AnnouncementsView</th>\n",
              "      <th>Discussion</th>\n",
              "      <th>ParentAnsweringSurvey</th>\n",
              "      <th>ParentschoolSatisfaction</th>\n",
              "      <th>StudentAbsenceDays</th>\n",
              "      <th>Class</th>\n",
              "    </tr>\n",
              "  </thead>\n",
              "  <tbody>\n",
              "    <tr>\n",
              "      <th>0</th>\n",
              "      <td>M</td>\n",
              "      <td>KW</td>\n",
              "      <td>KuwaIT</td>\n",
              "      <td>lowerlevel</td>\n",
              "      <td>G-04</td>\n",
              "      <td>A</td>\n",
              "      <td>IT</td>\n",
              "      <td>F</td>\n",
              "      <td>Father</td>\n",
              "      <td>15.000000</td>\n",
              "      <td>16.0</td>\n",
              "      <td>2.0</td>\n",
              "      <td>20</td>\n",
              "      <td>Yes</td>\n",
              "      <td>Good</td>\n",
              "      <td>Under-7</td>\n",
              "      <td>M</td>\n",
              "    </tr>\n",
              "    <tr>\n",
              "      <th>1</th>\n",
              "      <td>M</td>\n",
              "      <td>KW</td>\n",
              "      <td>KuwaIT</td>\n",
              "      <td>lowerlevel</td>\n",
              "      <td>G-04</td>\n",
              "      <td>A</td>\n",
              "      <td>IT</td>\n",
              "      <td>F</td>\n",
              "      <td>Father</td>\n",
              "      <td>20.000000</td>\n",
              "      <td>20.0</td>\n",
              "      <td>3.0</td>\n",
              "      <td>25</td>\n",
              "      <td>Yes</td>\n",
              "      <td>Good</td>\n",
              "      <td>Under-7</td>\n",
              "      <td>M</td>\n",
              "    </tr>\n",
              "    <tr>\n",
              "      <th>2</th>\n",
              "      <td>M</td>\n",
              "      <td>KW</td>\n",
              "      <td>KuwaIT</td>\n",
              "      <td>lowerlevel</td>\n",
              "      <td>G-04</td>\n",
              "      <td>A</td>\n",
              "      <td>IT</td>\n",
              "      <td>F</td>\n",
              "      <td>Father</td>\n",
              "      <td>10.000000</td>\n",
              "      <td>7.0</td>\n",
              "      <td>0.0</td>\n",
              "      <td>30</td>\n",
              "      <td>No</td>\n",
              "      <td>Bad</td>\n",
              "      <td>Above-7</td>\n",
              "      <td>L</td>\n",
              "    </tr>\n",
              "    <tr>\n",
              "      <th>3</th>\n",
              "      <td>M</td>\n",
              "      <td>KW</td>\n",
              "      <td>KuwaIT</td>\n",
              "      <td>lowerlevel</td>\n",
              "      <td>G-04</td>\n",
              "      <td>A</td>\n",
              "      <td>IT</td>\n",
              "      <td>F</td>\n",
              "      <td>Father</td>\n",
              "      <td>30.000000</td>\n",
              "      <td>65.0</td>\n",
              "      <td>5.0</td>\n",
              "      <td>35</td>\n",
              "      <td>No</td>\n",
              "      <td>Bad</td>\n",
              "      <td>Above-7</td>\n",
              "      <td>L</td>\n",
              "    </tr>\n",
              "    <tr>\n",
              "      <th>4</th>\n",
              "      <td>M</td>\n",
              "      <td>KW</td>\n",
              "      <td>KuwaIT</td>\n",
              "      <td>lowerlevel</td>\n",
              "      <td>G-04</td>\n",
              "      <td>A</td>\n",
              "      <td>IT</td>\n",
              "      <td>F</td>\n",
              "      <td>Father</td>\n",
              "      <td>46.708696</td>\n",
              "      <td>50.0</td>\n",
              "      <td>12.0</td>\n",
              "      <td>50</td>\n",
              "      <td>No</td>\n",
              "      <td>Bad</td>\n",
              "      <td>Above-7</td>\n",
              "      <td>M</td>\n",
              "    </tr>\n",
              "    <tr>\n",
              "      <th>...</th>\n",
              "      <td>...</td>\n",
              "      <td>...</td>\n",
              "      <td>...</td>\n",
              "      <td>...</td>\n",
              "      <td>...</td>\n",
              "      <td>...</td>\n",
              "      <td>...</td>\n",
              "      <td>...</td>\n",
              "      <td>...</td>\n",
              "      <td>...</td>\n",
              "      <td>...</td>\n",
              "      <td>...</td>\n",
              "      <td>...</td>\n",
              "      <td>...</td>\n",
              "      <td>...</td>\n",
              "      <td>...</td>\n",
              "      <td>...</td>\n",
              "    </tr>\n",
              "    <tr>\n",
              "      <th>475</th>\n",
              "      <td>F</td>\n",
              "      <td>Jordan</td>\n",
              "      <td>Jordan</td>\n",
              "      <td>MiddleSchool</td>\n",
              "      <td>G-08</td>\n",
              "      <td>A</td>\n",
              "      <td>Chemistry</td>\n",
              "      <td>S</td>\n",
              "      <td>Father</td>\n",
              "      <td>5.000000</td>\n",
              "      <td>4.0</td>\n",
              "      <td>5.0</td>\n",
              "      <td>8</td>\n",
              "      <td>No</td>\n",
              "      <td>Bad</td>\n",
              "      <td>Above-7</td>\n",
              "      <td>L</td>\n",
              "    </tr>\n",
              "    <tr>\n",
              "      <th>476</th>\n",
              "      <td>F</td>\n",
              "      <td>Jordan</td>\n",
              "      <td>Jordan</td>\n",
              "      <td>MiddleSchool</td>\n",
              "      <td>G-08</td>\n",
              "      <td>A</td>\n",
              "      <td>Geology</td>\n",
              "      <td>F</td>\n",
              "      <td>Father</td>\n",
              "      <td>50.000000</td>\n",
              "      <td>77.0</td>\n",
              "      <td>14.0</td>\n",
              "      <td>28</td>\n",
              "      <td>No</td>\n",
              "      <td>Bad</td>\n",
              "      <td>Under-7</td>\n",
              "      <td>M</td>\n",
              "    </tr>\n",
              "    <tr>\n",
              "      <th>477</th>\n",
              "      <td>F</td>\n",
              "      <td>Jordan</td>\n",
              "      <td>Jordan</td>\n",
              "      <td>MiddleSchool</td>\n",
              "      <td>G-08</td>\n",
              "      <td>A</td>\n",
              "      <td>Geology</td>\n",
              "      <td>S</td>\n",
              "      <td>Father</td>\n",
              "      <td>55.000000</td>\n",
              "      <td>74.0</td>\n",
              "      <td>25.0</td>\n",
              "      <td>29</td>\n",
              "      <td>No</td>\n",
              "      <td>Bad</td>\n",
              "      <td>Under-7</td>\n",
              "      <td>M</td>\n",
              "    </tr>\n",
              "    <tr>\n",
              "      <th>478</th>\n",
              "      <td>F</td>\n",
              "      <td>Jordan</td>\n",
              "      <td>Jordan</td>\n",
              "      <td>MiddleSchool</td>\n",
              "      <td>G-08</td>\n",
              "      <td>A</td>\n",
              "      <td>History</td>\n",
              "      <td>F</td>\n",
              "      <td>Father</td>\n",
              "      <td>30.000000</td>\n",
              "      <td>17.0</td>\n",
              "      <td>14.0</td>\n",
              "      <td>57</td>\n",
              "      <td>No</td>\n",
              "      <td>Bad</td>\n",
              "      <td>Above-7</td>\n",
              "      <td>L</td>\n",
              "    </tr>\n",
              "    <tr>\n",
              "      <th>479</th>\n",
              "      <td>F</td>\n",
              "      <td>Jordan</td>\n",
              "      <td>Jordan</td>\n",
              "      <td>MiddleSchool</td>\n",
              "      <td>G-08</td>\n",
              "      <td>A</td>\n",
              "      <td>History</td>\n",
              "      <td>S</td>\n",
              "      <td>Father</td>\n",
              "      <td>35.000000</td>\n",
              "      <td>14.0</td>\n",
              "      <td>23.0</td>\n",
              "      <td>62</td>\n",
              "      <td>No</td>\n",
              "      <td>Bad</td>\n",
              "      <td>Above-7</td>\n",
              "      <td>L</td>\n",
              "    </tr>\n",
              "  </tbody>\n",
              "</table>\n",
              "<p>480 rows × 17 columns</p>\n",
              "</div>\n",
              "      <button class=\"colab-df-convert\" onclick=\"convertToInteractive('df-26f31049-05c1-4e8f-bf39-1691f2b2d1a2')\"\n",
              "              title=\"Convert this dataframe to an interactive table.\"\n",
              "              style=\"display:none;\">\n",
              "        \n",
              "  <svg xmlns=\"http://www.w3.org/2000/svg\" height=\"24px\"viewBox=\"0 0 24 24\"\n",
              "       width=\"24px\">\n",
              "    <path d=\"M0 0h24v24H0V0z\" fill=\"none\"/>\n",
              "    <path d=\"M18.56 5.44l.94 2.06.94-2.06 2.06-.94-2.06-.94-.94-2.06-.94 2.06-2.06.94zm-11 1L8.5 8.5l.94-2.06 2.06-.94-2.06-.94L8.5 2.5l-.94 2.06-2.06.94zm10 10l.94 2.06.94-2.06 2.06-.94-2.06-.94-.94-2.06-.94 2.06-2.06.94z\"/><path d=\"M17.41 7.96l-1.37-1.37c-.4-.4-.92-.59-1.43-.59-.52 0-1.04.2-1.43.59L10.3 9.45l-7.72 7.72c-.78.78-.78 2.05 0 2.83L4 21.41c.39.39.9.59 1.41.59.51 0 1.02-.2 1.41-.59l7.78-7.78 2.81-2.81c.8-.78.8-2.07 0-2.86zM5.41 20L4 18.59l7.72-7.72 1.47 1.35L5.41 20z\"/>\n",
              "  </svg>\n",
              "      </button>\n",
              "      \n",
              "  <style>\n",
              "    .colab-df-container {\n",
              "      display:flex;\n",
              "      flex-wrap:wrap;\n",
              "      gap: 12px;\n",
              "    }\n",
              "\n",
              "    .colab-df-convert {\n",
              "      background-color: #E8F0FE;\n",
              "      border: none;\n",
              "      border-radius: 50%;\n",
              "      cursor: pointer;\n",
              "      display: none;\n",
              "      fill: #1967D2;\n",
              "      height: 32px;\n",
              "      padding: 0 0 0 0;\n",
              "      width: 32px;\n",
              "    }\n",
              "\n",
              "    .colab-df-convert:hover {\n",
              "      background-color: #E2EBFA;\n",
              "      box-shadow: 0px 1px 2px rgba(60, 64, 67, 0.3), 0px 1px 3px 1px rgba(60, 64, 67, 0.15);\n",
              "      fill: #174EA6;\n",
              "    }\n",
              "\n",
              "    [theme=dark] .colab-df-convert {\n",
              "      background-color: #3B4455;\n",
              "      fill: #D2E3FC;\n",
              "    }\n",
              "\n",
              "    [theme=dark] .colab-df-convert:hover {\n",
              "      background-color: #434B5C;\n",
              "      box-shadow: 0px 1px 3px 1px rgba(0, 0, 0, 0.15);\n",
              "      filter: drop-shadow(0px 1px 2px rgba(0, 0, 0, 0.3));\n",
              "      fill: #FFFFFF;\n",
              "    }\n",
              "  </style>\n",
              "\n",
              "      <script>\n",
              "        const buttonEl =\n",
              "          document.querySelector('#df-26f31049-05c1-4e8f-bf39-1691f2b2d1a2 button.colab-df-convert');\n",
              "        buttonEl.style.display =\n",
              "          google.colab.kernel.accessAllowed ? 'block' : 'none';\n",
              "\n",
              "        async function convertToInteractive(key) {\n",
              "          const element = document.querySelector('#df-26f31049-05c1-4e8f-bf39-1691f2b2d1a2');\n",
              "          const dataTable =\n",
              "            await google.colab.kernel.invokeFunction('convertToInteractive',\n",
              "                                                     [key], {});\n",
              "          if (!dataTable) return;\n",
              "\n",
              "          const docLinkHtml = 'Like what you see? Visit the ' +\n",
              "            '<a target=\"_blank\" href=https://colab.research.google.com/notebooks/data_table.ipynb>data table notebook</a>'\n",
              "            + ' to learn more about interactive tables.';\n",
              "          element.innerHTML = '';\n",
              "          dataTable['output_type'] = 'display_data';\n",
              "          await google.colab.output.renderOutput(dataTable, element);\n",
              "          const docLink = document.createElement('div');\n",
              "          docLink.innerHTML = docLinkHtml;\n",
              "          element.appendChild(docLink);\n",
              "        }\n",
              "      </script>\n",
              "    </div>\n",
              "  </div>\n",
              "  "
            ],
            "text/plain": [
              "    gender NationalITy  ... StudentAbsenceDays Class\n",
              "0        M          KW  ...            Under-7     M\n",
              "1        M          KW  ...            Under-7     M\n",
              "2        M          KW  ...            Above-7     L\n",
              "3        M          KW  ...            Above-7     L\n",
              "4        M          KW  ...            Above-7     M\n",
              "..     ...         ...  ...                ...   ...\n",
              "475      F      Jordan  ...            Above-7     L\n",
              "476      F      Jordan  ...            Under-7     M\n",
              "477      F      Jordan  ...            Under-7     M\n",
              "478      F      Jordan  ...            Above-7     L\n",
              "479      F      Jordan  ...            Above-7     L\n",
              "\n",
              "[480 rows x 17 columns]"
            ]
          },
          "metadata": {},
          "execution_count": 89
        }
      ]
    },
    {
      "cell_type": "code",
      "source": [
        "outlier_df[\"raisedhands\"][475] = 300.0"
      ],
      "metadata": {
        "colab": {
          "base_uri": "https://localhost:8080/"
        },
        "id": "7xVbzjBV2hZh",
        "outputId": "e3288ed3-b1f7-4dd5-8104-46668e03d6bc"
      },
      "execution_count": null,
      "outputs": [
        {
          "output_type": "execute_result",
          "data": {
            "text/plain": [
              "300.0"
            ]
          },
          "metadata": {},
          "execution_count": 92
        }
      ]
    },
    {
      "cell_type": "markdown",
      "source": [
        "Here, we see an outlier which is greater than 100"
      ],
      "metadata": {
        "id": "Ho5aUHIo3Lc0"
      }
    },
    {
      "cell_type": "code",
      "source": [
        "plt.boxplot(outlier_df[\"raisedhands\"], vert=False)\n",
        "plt.title(\"Detecting outliers using Boxplot\")\n",
        "plt.xlabel('raisedhands')"
      ],
      "metadata": {
        "colab": {
          "base_uri": "https://localhost:8080/",
          "height": 312
        },
        "id": "1C9MVUwe25o4",
        "outputId": "68d0ff97-92db-4dce-e05c-ee0619b186e1"
      },
      "execution_count": null,
      "outputs": [
        {
          "output_type": "execute_result",
          "data": {
            "text/plain": [
              "Text(0.5, 0, 'raisedhands')"
            ]
          },
          "metadata": {},
          "execution_count": 94
        },
        {
          "output_type": "display_data",
          "data": {
            "image/png": "[encoded data removed]",
            "text/plain": [
              "<Figure size 432x288 with 1 Axes>"
            ]
          },
          "metadata": {
            "needs_background": "light"
          }
        }
      ]
    },
    {
      "cell_type": "markdown",
      "source": [
        "Getting records which are greater than 100"
      ],
      "metadata": {
        "id": "IORN5r6i3Xs8"
      }
    },
    {
      "cell_type": "code",
      "source": [
        "outlier_df[outlier_df[\"raisedhands\"] > 100]"
      ],
      "metadata": {
        "colab": {
          "base_uri": "https://localhost:8080/",
          "height": 145
        },
        "id": "5z9qW42j3IX5",
        "outputId": "2058653f-421b-4261-dc11-3a8ab834d6ef"
      },
      "execution_count": null,
      "outputs": [
        {
          "output_type": "execute_result",
          "data": {
            "text/html": [
              "\n",
              "  <div id=\"df-a24c68c8-43d7-4a5b-9ea5-33ca8196b081\">\n",
              "    <div class=\"colab-df-container\">\n",
              "      <div>\n",
              "<style scoped>\n",
              "    .dataframe tbody tr th:only-of-type {\n",
              "        vertical-align: middle;\n",
              "    }\n",
              "\n",
              "    .dataframe tbody tr th {\n",
              "        vertical-align: top;\n",
              "    }\n",
              "\n",
              "    .dataframe thead th {\n",
              "        text-align: right;\n",
              "    }\n",
              "</style>\n",
              "<table border=\"1\" class=\"dataframe\">\n",
              "  <thead>\n",
              "    <tr style=\"text-align: right;\">\n",
              "      <th></th>\n",
              "      <th>gender</th>\n",
              "      <th>NationalITy</th>\n",
              "      <th>PlaceofBirth</th>\n",
              "      <th>StageID</th>\n",
              "      <th>GradeID</th>\n",
              "      <th>SectionID</th>\n",
              "      <th>Topic</th>\n",
              "      <th>Semester</th>\n",
              "      <th>Relation</th>\n",
              "      <th>raisedhands</th>\n",
              "      <th>VisITedResources</th>\n",
              "      <th>AnnouncementsView</th>\n",
              "      <th>Discussion</th>\n",
              "      <th>ParentAnsweringSurvey</th>\n",
              "      <th>ParentschoolSatisfaction</th>\n",
              "      <th>StudentAbsenceDays</th>\n",
              "      <th>Class</th>\n",
              "    </tr>\n",
              "  </thead>\n",
              "  <tbody>\n",
              "    <tr>\n",
              "      <th>475</th>\n",
              "      <td>F</td>\n",
              "      <td>Jordan</td>\n",
              "      <td>Jordan</td>\n",
              "      <td>MiddleSchool</td>\n",
              "      <td>G-08</td>\n",
              "      <td>A</td>\n",
              "      <td>Chemistry</td>\n",
              "      <td>S</td>\n",
              "      <td>Father</td>\n",
              "      <td>300.0</td>\n",
              "      <td>4.0</td>\n",
              "      <td>5.0</td>\n",
              "      <td>8</td>\n",
              "      <td>No</td>\n",
              "      <td>Bad</td>\n",
              "      <td>Above-7</td>\n",
              "      <td>L</td>\n",
              "    </tr>\n",
              "  </tbody>\n",
              "</table>\n",
              "</div>\n",
              "      <button class=\"colab-df-convert\" onclick=\"convertToInteractive('df-a24c68c8-43d7-4a5b-9ea5-33ca8196b081')\"\n",
              "              title=\"Convert this dataframe to an interactive table.\"\n",
              "              style=\"display:none;\">\n",
              "        \n",
              "  <svg xmlns=\"http://www.w3.org/2000/svg\" height=\"24px\"viewBox=\"0 0 24 24\"\n",
              "       width=\"24px\">\n",
              "    <path d=\"M0 0h24v24H0V0z\" fill=\"none\"/>\n",
              "    <path d=\"M18.56 5.44l.94 2.06.94-2.06 2.06-.94-2.06-.94-.94-2.06-.94 2.06-2.06.94zm-11 1L8.5 8.5l.94-2.06 2.06-.94-2.06-.94L8.5 2.5l-.94 2.06-2.06.94zm10 10l.94 2.06.94-2.06 2.06-.94-2.06-.94-.94-2.06-.94 2.06-2.06.94z\"/><path d=\"M17.41 7.96l-1.37-1.37c-.4-.4-.92-.59-1.43-.59-.52 0-1.04.2-1.43.59L10.3 9.45l-7.72 7.72c-.78.78-.78 2.05 0 2.83L4 21.41c.39.39.9.59 1.41.59.51 0 1.02-.2 1.41-.59l7.78-7.78 2.81-2.81c.8-.78.8-2.07 0-2.86zM5.41 20L4 18.59l7.72-7.72 1.47 1.35L5.41 20z\"/>\n",
              "  </svg>\n",
              "      </button>\n",
              "      \n",
              "  <style>\n",
              "    .colab-df-container {\n",
              "      display:flex;\n",
              "      flex-wrap:wrap;\n",
              "      gap: 12px;\n",
              "    }\n",
              "\n",
              "    .colab-df-convert {\n",
              "      background-color: #E8F0FE;\n",
              "      border: none;\n",
              "      border-radius: 50%;\n",
              "      cursor: pointer;\n",
              "      display: none;\n",
              "      fill: #1967D2;\n",
              "      height: 32px;\n",
              "      padding: 0 0 0 0;\n",
              "      width: 32px;\n",
              "    }\n",
              "\n",
              "    .colab-df-convert:hover {\n",
              "      background-color: #E2EBFA;\n",
              "      box-shadow: 0px 1px 2px rgba(60, 64, 67, 0.3), 0px 1px 3px 1px rgba(60, 64, 67, 0.15);\n",
              "      fill: #174EA6;\n",
              "    }\n",
              "\n",
              "    [theme=dark] .colab-df-convert {\n",
              "      background-color: #3B4455;\n",
              "      fill: #D2E3FC;\n",
              "    }\n",
              "\n",
              "    [theme=dark] .colab-df-convert:hover {\n",
              "      background-color: #434B5C;\n",
              "      box-shadow: 0px 1px 3px 1px rgba(0, 0, 0, 0.15);\n",
              "      filter: drop-shadow(0px 1px 2px rgba(0, 0, 0, 0.3));\n",
              "      fill: #FFFFFF;\n",
              "    }\n",
              "  </style>\n",
              "\n",
              "      <script>\n",
              "        const buttonEl =\n",
              "          document.querySelector('#df-a24c68c8-43d7-4a5b-9ea5-33ca8196b081 button.colab-df-convert');\n",
              "        buttonEl.style.display =\n",
              "          google.colab.kernel.accessAllowed ? 'block' : 'none';\n",
              "\n",
              "        async function convertToInteractive(key) {\n",
              "          const element = document.querySelector('#df-a24c68c8-43d7-4a5b-9ea5-33ca8196b081');\n",
              "          const dataTable =\n",
              "            await google.colab.kernel.invokeFunction('convertToInteractive',\n",
              "                                                     [key], {});\n",
              "          if (!dataTable) return;\n",
              "\n",
              "          const docLinkHtml = 'Like what you see? Visit the ' +\n",
              "            '<a target=\"_blank\" href=https://colab.research.google.com/notebooks/data_table.ipynb>data table notebook</a>'\n",
              "            + ' to learn more about interactive tables.';\n",
              "          element.innerHTML = '';\n",
              "          dataTable['output_type'] = 'display_data';\n",
              "          await google.colab.output.renderOutput(dataTable, element);\n",
              "          const docLink = document.createElement('div');\n",
              "          docLink.innerHTML = docLinkHtml;\n",
              "          element.appendChild(docLink);\n",
              "        }\n",
              "      </script>\n",
              "    </div>\n",
              "  </div>\n",
              "  "
            ],
            "text/plain": [
              "    gender NationalITy  ... StudentAbsenceDays Class\n",
              "475      F      Jordan  ...            Above-7     L\n",
              "\n",
              "[1 rows x 17 columns]"
            ]
          },
          "metadata": {},
          "execution_count": 99
        }
      ]
    },
    {
      "cell_type": "markdown",
      "source": [
        "Imputing the outliers with the mean."
      ],
      "metadata": {
        "id": "DQDrt67628q6"
      }
    },
    {
      "cell_type": "code",
      "source": [
        "outlier_df[outlier_df[\"raisedhands\"] > 100] = outlier_df[\"raisedhands\"].mean()"
      ],
      "metadata": {
        "id": "zjLo3tOa4L51"
      },
      "execution_count": null,
      "outputs": []
    },
    {
      "cell_type": "markdown",
      "source": [
        "As we see in the box plot, there are no Outliers in the raisedhands column"
      ],
      "metadata": {
        "id": "5gweywec3E_W"
      }
    },
    {
      "cell_type": "code",
      "source": [
        "plt.boxplot(outlier_df[\"raisedhands\"], vert=False)\n",
        "plt.title(\"Detecting outliers using Boxplot\")\n",
        "plt.xlabel('raisedhands')"
      ],
      "metadata": {
        "colab": {
          "base_uri": "https://localhost:8080/",
          "height": 312
        },
        "id": "RIW5j0Pg4siN",
        "outputId": "44d38f77-65fc-4c8e-8a37-2b5265dc58f8"
      },
      "execution_count": null,
      "outputs": [
        {
          "output_type": "execute_result",
          "data": {
            "text/plain": [
              "Text(0.5, 0, 'raisedhands')"
            ]
          },
          "metadata": {},
          "execution_count": 101
        },
        {
          "output_type": "display_data",
          "data": {
            "image/png": "[encoded data removed]",
            "text/plain": [
              "<Figure size 432x288 with 1 Axes>"
            ]
          },
          "metadata": {
            "needs_background": "light"
          }
        }
      ]
    },
    {
      "cell_type": "markdown",
      "source": [
        "# Data Transformation"
      ],
      "metadata": {
        "id": "cLMhD-5Q5Q78"
      }
    },
    {
      "cell_type": "markdown",
      "source": [
        "Getting all the columns which are of categorical type"
      ],
      "metadata": {
        "id": "42OXRunL3QJG"
      }
    },
    {
      "cell_type": "code",
      "source": [
        "import numpy as np\n",
        "df.select_dtypes(exclude=[np.number])"
      ],
      "metadata": {
        "colab": {
          "base_uri": "https://localhost:8080/",
          "height": 488
        },
        "id": "ZzVBWfyp4vTO",
        "outputId": "30adc30d-15b3-4558-b9f8-bde4e03d5f4b"
      },
      "execution_count": null,
      "outputs": [
        {
          "output_type": "execute_result",
          "data": {
            "text/html": [
              "\n",
              "  <div id=\"df-4abb127e-aebd-4738-95c5-f20956551b90\">\n",
              "    <div class=\"colab-df-container\">\n",
              "      <div>\n",
              "<style scoped>\n",
              "    .dataframe tbody tr th:only-of-type {\n",
              "        vertical-align: middle;\n",
              "    }\n",
              "\n",
              "    .dataframe tbody tr th {\n",
              "        vertical-align: top;\n",
              "    }\n",
              "\n",
              "    .dataframe thead th {\n",
              "        text-align: right;\n",
              "    }\n",
              "</style>\n",
              "<table border=\"1\" class=\"dataframe\">\n",
              "  <thead>\n",
              "    <tr style=\"text-align: right;\">\n",
              "      <th></th>\n",
              "      <th>gender</th>\n",
              "      <th>NationalITy</th>\n",
              "      <th>PlaceofBirth</th>\n",
              "      <th>StageID</th>\n",
              "      <th>GradeID</th>\n",
              "      <th>SectionID</th>\n",
              "      <th>Topic</th>\n",
              "      <th>Semester</th>\n",
              "      <th>Relation</th>\n",
              "      <th>ParentAnsweringSurvey</th>\n",
              "      <th>ParentschoolSatisfaction</th>\n",
              "      <th>StudentAbsenceDays</th>\n",
              "      <th>Class</th>\n",
              "    </tr>\n",
              "  </thead>\n",
              "  <tbody>\n",
              "    <tr>\n",
              "      <th>0</th>\n",
              "      <td>M</td>\n",
              "      <td>KW</td>\n",
              "      <td>KuwaIT</td>\n",
              "      <td>lowerlevel</td>\n",
              "      <td>G-04</td>\n",
              "      <td>A</td>\n",
              "      <td>IT</td>\n",
              "      <td>F</td>\n",
              "      <td>Father</td>\n",
              "      <td>Yes</td>\n",
              "      <td>Good</td>\n",
              "      <td>Under-7</td>\n",
              "      <td>M</td>\n",
              "    </tr>\n",
              "    <tr>\n",
              "      <th>1</th>\n",
              "      <td>M</td>\n",
              "      <td>KW</td>\n",
              "      <td>KuwaIT</td>\n",
              "      <td>lowerlevel</td>\n",
              "      <td>G-04</td>\n",
              "      <td>A</td>\n",
              "      <td>IT</td>\n",
              "      <td>F</td>\n",
              "      <td>Father</td>\n",
              "      <td>Yes</td>\n",
              "      <td>Good</td>\n",
              "      <td>Under-7</td>\n",
              "      <td>M</td>\n",
              "    </tr>\n",
              "    <tr>\n",
              "      <th>2</th>\n",
              "      <td>M</td>\n",
              "      <td>KW</td>\n",
              "      <td>KuwaIT</td>\n",
              "      <td>lowerlevel</td>\n",
              "      <td>G-04</td>\n",
              "      <td>A</td>\n",
              "      <td>IT</td>\n",
              "      <td>F</td>\n",
              "      <td>Father</td>\n",
              "      <td>No</td>\n",
              "      <td>Bad</td>\n",
              "      <td>Above-7</td>\n",
              "      <td>L</td>\n",
              "    </tr>\n",
              "    <tr>\n",
              "      <th>3</th>\n",
              "      <td>M</td>\n",
              "      <td>KW</td>\n",
              "      <td>KuwaIT</td>\n",
              "      <td>lowerlevel</td>\n",
              "      <td>G-04</td>\n",
              "      <td>A</td>\n",
              "      <td>IT</td>\n",
              "      <td>F</td>\n",
              "      <td>Father</td>\n",
              "      <td>No</td>\n",
              "      <td>Bad</td>\n",
              "      <td>Above-7</td>\n",
              "      <td>L</td>\n",
              "    </tr>\n",
              "    <tr>\n",
              "      <th>4</th>\n",
              "      <td>M</td>\n",
              "      <td>KW</td>\n",
              "      <td>KuwaIT</td>\n",
              "      <td>lowerlevel</td>\n",
              "      <td>G-04</td>\n",
              "      <td>A</td>\n",
              "      <td>IT</td>\n",
              "      <td>F</td>\n",
              "      <td>Father</td>\n",
              "      <td>No</td>\n",
              "      <td>Bad</td>\n",
              "      <td>Above-7</td>\n",
              "      <td>M</td>\n",
              "    </tr>\n",
              "    <tr>\n",
              "      <th>...</th>\n",
              "      <td>...</td>\n",
              "      <td>...</td>\n",
              "      <td>...</td>\n",
              "      <td>...</td>\n",
              "      <td>...</td>\n",
              "      <td>...</td>\n",
              "      <td>...</td>\n",
              "      <td>...</td>\n",
              "      <td>...</td>\n",
              "      <td>...</td>\n",
              "      <td>...</td>\n",
              "      <td>...</td>\n",
              "      <td>...</td>\n",
              "    </tr>\n",
              "    <tr>\n",
              "      <th>475</th>\n",
              "      <td>F</td>\n",
              "      <td>Jordan</td>\n",
              "      <td>Jordan</td>\n",
              "      <td>MiddleSchool</td>\n",
              "      <td>G-08</td>\n",
              "      <td>A</td>\n",
              "      <td>Chemistry</td>\n",
              "      <td>S</td>\n",
              "      <td>Father</td>\n",
              "      <td>No</td>\n",
              "      <td>Bad</td>\n",
              "      <td>Above-7</td>\n",
              "      <td>L</td>\n",
              "    </tr>\n",
              "    <tr>\n",
              "      <th>476</th>\n",
              "      <td>F</td>\n",
              "      <td>Jordan</td>\n",
              "      <td>Jordan</td>\n",
              "      <td>MiddleSchool</td>\n",
              "      <td>G-08</td>\n",
              "      <td>A</td>\n",
              "      <td>Geology</td>\n",
              "      <td>F</td>\n",
              "      <td>Father</td>\n",
              "      <td>No</td>\n",
              "      <td>Bad</td>\n",
              "      <td>Under-7</td>\n",
              "      <td>M</td>\n",
              "    </tr>\n",
              "    <tr>\n",
              "      <th>477</th>\n",
              "      <td>F</td>\n",
              "      <td>Jordan</td>\n",
              "      <td>Jordan</td>\n",
              "      <td>MiddleSchool</td>\n",
              "      <td>G-08</td>\n",
              "      <td>A</td>\n",
              "      <td>Geology</td>\n",
              "      <td>S</td>\n",
              "      <td>Father</td>\n",
              "      <td>No</td>\n",
              "      <td>Bad</td>\n",
              "      <td>Under-7</td>\n",
              "      <td>M</td>\n",
              "    </tr>\n",
              "    <tr>\n",
              "      <th>478</th>\n",
              "      <td>F</td>\n",
              "      <td>Jordan</td>\n",
              "      <td>Jordan</td>\n",
              "      <td>MiddleSchool</td>\n",
              "      <td>G-08</td>\n",
              "      <td>A</td>\n",
              "      <td>History</td>\n",
              "      <td>F</td>\n",
              "      <td>Father</td>\n",
              "      <td>No</td>\n",
              "      <td>Bad</td>\n",
              "      <td>Above-7</td>\n",
              "      <td>L</td>\n",
              "    </tr>\n",
              "    <tr>\n",
              "      <th>479</th>\n",
              "      <td>F</td>\n",
              "      <td>Jordan</td>\n",
              "      <td>Jordan</td>\n",
              "      <td>MiddleSchool</td>\n",
              "      <td>G-08</td>\n",
              "      <td>A</td>\n",
              "      <td>History</td>\n",
              "      <td>S</td>\n",
              "      <td>Father</td>\n",
              "      <td>No</td>\n",
              "      <td>Bad</td>\n",
              "      <td>Above-7</td>\n",
              "      <td>L</td>\n",
              "    </tr>\n",
              "  </tbody>\n",
              "</table>\n",
              "<p>480 rows × 13 columns</p>\n",
              "</div>\n",
              "      <button class=\"colab-df-convert\" onclick=\"convertToInteractive('df-4abb127e-aebd-4738-95c5-f20956551b90')\"\n",
              "              title=\"Convert this dataframe to an interactive table.\"\n",
              "              style=\"display:none;\">\n",
              "        \n",
              "  <svg xmlns=\"http://www.w3.org/2000/svg\" height=\"24px\"viewBox=\"0 0 24 24\"\n",
              "       width=\"24px\">\n",
              "    <path d=\"M0 0h24v24H0V0z\" fill=\"none\"/>\n",
              "    <path d=\"M18.56 5.44l.94 2.06.94-2.06 2.06-.94-2.06-.94-.94-2.06-.94 2.06-2.06.94zm-11 1L8.5 8.5l.94-2.06 2.06-.94-2.06-.94L8.5 2.5l-.94 2.06-2.06.94zm10 10l.94 2.06.94-2.06 2.06-.94-2.06-.94-.94-2.06-.94 2.06-2.06.94z\"/><path d=\"M17.41 7.96l-1.37-1.37c-.4-.4-.92-.59-1.43-.59-.52 0-1.04.2-1.43.59L10.3 9.45l-7.72 7.72c-.78.78-.78 2.05 0 2.83L4 21.41c.39.39.9.59 1.41.59.51 0 1.02-.2 1.41-.59l7.78-7.78 2.81-2.81c.8-.78.8-2.07 0-2.86zM5.41 20L4 18.59l7.72-7.72 1.47 1.35L5.41 20z\"/>\n",
              "  </svg>\n",
              "      </button>\n",
              "      \n",
              "  <style>\n",
              "    .colab-df-container {\n",
              "      display:flex;\n",
              "      flex-wrap:wrap;\n",
              "      gap: 12px;\n",
              "    }\n",
              "\n",
              "    .colab-df-convert {\n",
              "      background-color: #E8F0FE;\n",
              "      border: none;\n",
              "      border-radius: 50%;\n",
              "      cursor: pointer;\n",
              "      display: none;\n",
              "      fill: #1967D2;\n",
              "      height: 32px;\n",
              "      padding: 0 0 0 0;\n",
              "      width: 32px;\n",
              "    }\n",
              "\n",
              "    .colab-df-convert:hover {\n",
              "      background-color: #E2EBFA;\n",
              "      box-shadow: 0px 1px 2px rgba(60, 64, 67, 0.3), 0px 1px 3px 1px rgba(60, 64, 67, 0.15);\n",
              "      fill: #174EA6;\n",
              "    }\n",
              "\n",
              "    [theme=dark] .colab-df-convert {\n",
              "      background-color: #3B4455;\n",
              "      fill: #D2E3FC;\n",
              "    }\n",
              "\n",
              "    [theme=dark] .colab-df-convert:hover {\n",
              "      background-color: #434B5C;\n",
              "      box-shadow: 0px 1px 3px 1px rgba(0, 0, 0, 0.15);\n",
              "      filter: drop-shadow(0px 1px 2px rgba(0, 0, 0, 0.3));\n",
              "      fill: #FFFFFF;\n",
              "    }\n",
              "  </style>\n",
              "\n",
              "      <script>\n",
              "        const buttonEl =\n",
              "          document.querySelector('#df-4abb127e-aebd-4738-95c5-f20956551b90 button.colab-df-convert');\n",
              "        buttonEl.style.display =\n",
              "          google.colab.kernel.accessAllowed ? 'block' : 'none';\n",
              "\n",
              "        async function convertToInteractive(key) {\n",
              "          const element = document.querySelector('#df-4abb127e-aebd-4738-95c5-f20956551b90');\n",
              "          const dataTable =\n",
              "            await google.colab.kernel.invokeFunction('convertToInteractive',\n",
              "                                                     [key], {});\n",
              "          if (!dataTable) return;\n",
              "\n",
              "          const docLinkHtml = 'Like what you see? Visit the ' +\n",
              "            '<a target=\"_blank\" href=https://colab.research.google.com/notebooks/data_table.ipynb>data table notebook</a>'\n",
              "            + ' to learn more about interactive tables.';\n",
              "          element.innerHTML = '';\n",
              "          dataTable['output_type'] = 'display_data';\n",
              "          await google.colab.output.renderOutput(dataTable, element);\n",
              "          const docLink = document.createElement('div');\n",
              "          docLink.innerHTML = docLinkHtml;\n",
              "          element.appendChild(docLink);\n",
              "        }\n",
              "      </script>\n",
              "    </div>\n",
              "  </div>\n",
              "  "
            ],
            "text/plain": [
              "    gender NationalITy  ... StudentAbsenceDays Class\n",
              "0        M          KW  ...            Under-7     M\n",
              "1        M          KW  ...            Under-7     M\n",
              "2        M          KW  ...            Above-7     L\n",
              "3        M          KW  ...            Above-7     L\n",
              "4        M          KW  ...            Above-7     M\n",
              "..     ...         ...  ...                ...   ...\n",
              "475      F      Jordan  ...            Above-7     L\n",
              "476      F      Jordan  ...            Under-7     M\n",
              "477      F      Jordan  ...            Under-7     M\n",
              "478      F      Jordan  ...            Above-7     L\n",
              "479      F      Jordan  ...            Above-7     L\n",
              "\n",
              "[480 rows x 13 columns]"
            ]
          },
          "metadata": {},
          "execution_count": 103
        }
      ]
    },
    {
      "cell_type": "markdown",
      "source": [
        "Getting information about the categorical data of Relation column"
      ],
      "metadata": {
        "id": "aPplyKtq3ZX7"
      }
    },
    {
      "cell_type": "code",
      "source": [
        "df.Relation.value_counts()"
      ],
      "metadata": {
        "colab": {
          "base_uri": "https://localhost:8080/"
        },
        "id": "g-cUADib5spD",
        "outputId": "c4b8225f-714b-4b75-d87e-afd5ed5e68b1"
      },
      "execution_count": null,
      "outputs": [
        {
          "output_type": "execute_result",
          "data": {
            "text/plain": [
              "Father    290\n",
              "Mum       190\n",
              "Name: Relation, dtype: int64"
            ]
          },
          "metadata": {},
          "execution_count": 104
        }
      ]
    },
    {
      "cell_type": "markdown",
      "source": [
        "Manually label encoding the data."
      ],
      "metadata": {
        "id": "g-FFEupC4n-k"
      }
    },
    {
      "cell_type": "code",
      "source": [
        "df.Relation.replace({\"Mum\": 1, \"Father\": 2}, inplace=True)"
      ],
      "metadata": {
        "id": "ru39plQw6AVF"
      },
      "execution_count": null,
      "outputs": []
    },
    {
      "cell_type": "code",
      "source": [
        "df.Relation.value_counts()"
      ],
      "metadata": {
        "colab": {
          "base_uri": "https://localhost:8080/"
        },
        "id": "1f-gGubC6MzK",
        "outputId": "11bc5178-c362-4138-98a2-6d25a8e5c227"
      },
      "execution_count": null,
      "outputs": [
        {
          "output_type": "execute_result",
          "data": {
            "text/plain": [
              "2    290\n",
              "1    190\n",
              "Name: Relation, dtype: int64"
            ]
          },
          "metadata": {},
          "execution_count": 108
        }
      ]
    }
  ]
}